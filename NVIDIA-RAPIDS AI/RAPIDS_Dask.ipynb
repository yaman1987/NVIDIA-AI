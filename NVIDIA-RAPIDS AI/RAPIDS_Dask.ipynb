{
  "nbformat": 4,
  "nbformat_minor": 0,
  "metadata": {
    "colab": {
      "name": "RAPIDS: Dask.ipynb",
      "version": "0.3.2",
      "provenance": [],
      "collapsed_sections": []
    },
    "kernelspec": {
      "name": "python3",
      "display_name": "Python 3"
    },
    "accelerator": "GPU"
  },
  "cells": [
    {
      "cell_type": "markdown",
      "metadata": {
        "id": "Ol91vcZ9dJD9",
        "colab_type": "text"
      },
      "source": [
        "# RAPIDS: Dask Tutorial"
      ]
    },
    {
      "cell_type": "markdown",
      "metadata": {
        "id": "_j0zM_RAa2QF",
        "colab_type": "text"
      },
      "source": [
        "For additional informations:\n",
        "- https://rapidsai.github.io/projects/cudf/en/0.7.0/dask-xgb-10min.html\n",
        "-https://dask-ml.readthedocs.io/en/stable/examples/xgboost.html"
      ]
    },
    {
      "cell_type": "markdown",
      "metadata": {
        "id": "3NEfYjpWdRqX",
        "colab_type": "text"
      },
      "source": [
        "### Preprocessing"
      ]
    },
    {
      "cell_type": "code",
      "metadata": {
        "id": "UCQzbT8xIcQs",
        "colab_type": "code",
        "outputId": "5fe0f128-cad8-426a-d076-cf2cf28e7fdf",
        "colab": {
          "base_uri": "https://localhost:8080/",
          "height": 316
        }
      },
      "source": [
        "!nvidia-smi"
      ],
      "execution_count": 0,
      "outputs": [
        {
          "output_type": "stream",
          "text": [
            "Sat Jul 20 18:58:32 2019       \n",
            "+-----------------------------------------------------------------------------+\n",
            "| NVIDIA-SMI 418.67       Driver Version: 410.79       CUDA Version: 10.0     |\n",
            "|-------------------------------+----------------------+----------------------+\n",
            "| GPU  Name        Persistence-M| Bus-Id        Disp.A | Volatile Uncorr. ECC |\n",
            "| Fan  Temp  Perf  Pwr:Usage/Cap|         Memory-Usage | GPU-Util  Compute M. |\n",
            "|===============================+======================+======================|\n",
            "|   0  Tesla T4            Off  | 00000000:00:04.0 Off |                    0 |\n",
            "| N/A   51C    P8    15W /  70W |      0MiB / 15079MiB |      0%      Default |\n",
            "+-------------------------------+----------------------+----------------------+\n",
            "                                                                               \n",
            "+-----------------------------------------------------------------------------+\n",
            "| Processes:                                                       GPU Memory |\n",
            "|  GPU       PID   Type   Process name                             Usage      |\n",
            "|=============================================================================|\n",
            "|  No running processes found                                                 |\n",
            "+-----------------------------------------------------------------------------+\n"
          ],
          "name": "stdout"
        }
      ]
    },
    {
      "cell_type": "code",
      "metadata": {
        "id": "0RqdJB9YIW0d",
        "colab_type": "code",
        "outputId": "47754e68-137a-4fbf-8b53-72fffcf20343",
        "colab": {
          "base_uri": "https://localhost:8080/",
          "height": 1000
        }
      },
      "source": [
        "# !wget https://github.com/randerzander/notebooks-extended/raw/master/utils/rapids-colab.sh\n",
        "# !chmod +x rapids-colab.sh\n",
        "# !./rapids-colab.sh\n",
        "\n",
        "# import sys, os\n",
        "# sys.path.append('/usr/local/lib/python3.6/site-packages/')\n",
        "# os.environ['NUMBAPRO_NVVM'] = '/usr/local/cuda/nvvm/lib64/libnvvm.so'\n",
        "# os.environ['NUMBAPRO_LIBDEVICE'] = '/usr/local/cuda/nvvm/libdevice/'\n",
        "\n",
        "# intall miniconda\n",
        "!wget -c https://repo.continuum.io/miniconda/Miniconda3-4.5.4-Linux-x86_64.sh\n",
        "!chmod +x Miniconda3-4.5.4-Linux-x86_64.sh\n",
        "!bash ./Miniconda3-4.5.4-Linux-x86_64.sh -b -f -p /usr/local\n",
        "\n",
        "# install RAPIDS packages\n",
        "!conda install -q -y --prefix /usr/local -c conda-forge \\\n",
        "  -c rapidsai-nightly/label/cuda10.0 -c nvidia/label/cuda10.0 \\\n",
        "  cudf cuml\n",
        "\n",
        "# set environment vars\n",
        "import sys, os, shutil\n",
        "sys.path.append('/usr/local/lib/python3.6/site-packages/')\n",
        "os.environ['NUMBAPRO_NVVM'] = '/usr/local/cuda/nvvm/lib64/libnvvm.so'\n",
        "os.environ['NUMBAPRO_LIBDEVICE'] = '/usr/local/cuda/nvvm/libdevice/'\n",
        "\n",
        "# copy .so files to current working dir\n",
        "for fn in ['libcudf.so', 'librmm.so']:\n",
        "  shutil.copy('/usr/local/lib/'+fn, os.getcwd())"
      ],
      "execution_count": 0,
      "outputs": [
        {
          "output_type": "stream",
          "text": [
            "--2019-07-20 19:04:02--  https://repo.continuum.io/miniconda/Miniconda3-4.5.4-Linux-x86_64.sh\n",
            "Resolving repo.continuum.io (repo.continuum.io)... 104.18.201.79, 104.18.200.79, 2606:4700::6812:c94f, ...\n",
            "Connecting to repo.continuum.io (repo.continuum.io)|104.18.201.79|:443... connected.\n",
            "HTTP request sent, awaiting response... 416 Requested Range Not Satisfiable\n",
            "\n",
            "    The file is already fully retrieved; nothing to do.\n",
            "\n",
            "PREFIX=/usr/local\n",
            "installing: python-3.6.5-hc3d631a_2 ...\n",
            "Python 3.6.5 :: Anaconda, Inc.\n",
            "installing: ca-certificates-2018.03.07-0 ...\n",
            "installing: conda-env-2.6.0-h36134e3_1 ...\n",
            "installing: libgcc-ng-7.2.0-hdf63c60_3 ...\n",
            "installing: libstdcxx-ng-7.2.0-hdf63c60_3 ...\n",
            "installing: libffi-3.2.1-hd88cf55_4 ...\n",
            "installing: ncurses-6.1-hf484d3e_0 ...\n",
            "installing: openssl-1.0.2o-h20670df_0 ...\n",
            "installing: tk-8.6.7-hc745277_3 ...\n",
            "installing: xz-5.2.4-h14c3975_4 ...\n",
            "installing: yaml-0.1.7-had09818_2 ...\n",
            "installing: zlib-1.2.11-ha838bed_2 ...\n",
            "installing: libedit-3.1.20170329-h6b74fdf_2 ...\n",
            "installing: readline-7.0-ha6073c6_4 ...\n",
            "installing: sqlite-3.23.1-he433501_0 ...\n",
            "installing: asn1crypto-0.24.0-py36_0 ...\n",
            "installing: certifi-2018.4.16-py36_0 ...\n",
            "installing: chardet-3.0.4-py36h0f667ec_1 ...\n",
            "installing: idna-2.6-py36h82fb2a8_1 ...\n",
            "installing: pycosat-0.6.3-py36h0a5515d_0 ...\n",
            "installing: pycparser-2.18-py36hf9f622e_1 ...\n",
            "installing: pysocks-1.6.8-py36_0 ...\n",
            "installing: ruamel_yaml-0.15.37-py36h14c3975_2 ...\n",
            "installing: six-1.11.0-py36h372c433_1 ...\n",
            "installing: cffi-1.11.5-py36h9745a5d_0 ...\n",
            "installing: setuptools-39.2.0-py36_0 ...\n",
            "installing: cryptography-2.2.2-py36h14c3975_0 ...\n",
            "installing: wheel-0.31.1-py36_0 ...\n",
            "installing: pip-10.0.1-py36_0 ...\n",
            "installing: pyopenssl-18.0.0-py36_0 ...\n",
            "installing: urllib3-1.22-py36hbe7ace6_0 ...\n",
            "installing: requests-2.18.4-py36he2e5f8d_1 ...\n",
            "installing: conda-4.5.4-py36_0 ...\n",
            "unlinking: ca-certificates-2019.6.16-hecc5488_0\n",
            "unlinking: certifi-2019.6.16-py37_1\n",
            "unlinking: cffi-1.12.3-py37h8022711_0\n",
            "unlinking: libffi-3.2.1-he1b5a44_1006\n",
            "unlinking: libgcc-ng-9.1.0-hdf63c60_0\n",
            "unlinking: libstdcxx-ng-9.1.0-hdf63c60_0\n",
            "unlinking: ncurses-6.1-hf484d3e_1002\n",
            "unlinking: openssl-1.1.1c-h516909a_0\n",
            "unlinking: pip-19.1.1-py37_0\n",
            "unlinking: pycparser-2.19-py37_1\n",
            "unlinking: python-3.7.3-h33d41f4_1\n",
            "unlinking: readline-8.0-hf8c457e_0\n",
            "unlinking: setuptools-41.0.1-py37_0\n",
            "unlinking: six-1.12.0-py37_1000\n",
            "unlinking: sqlite-3.29.0-hcee41ef_0\n",
            "unlinking: tk-8.6.9-hed695b0_1002\n",
            "unlinking: wheel-0.33.4-py37_0\n",
            "unlinking: xz-5.2.4-h14c3975_1001\n",
            "unlinking: zlib-1.2.11-h516909a_1005\n",
            "installation finished.\n",
            "WARNING:\n",
            "    You currently have a PYTHONPATH environment variable set. This may cause\n",
            "    unexpected behavior when running the Python interpreter in Miniconda3.\n",
            "    For best results, please verify that your PYTHONPATH only points to\n",
            "    directories of packages that are compatible with the Python interpreter\n",
            "    in Miniconda3: /usr/local\n",
            "Solving environment: ...working... done\n",
            "\n",
            "## Package Plan ##\n",
            "\n",
            "  environment location: /usr/local\n",
            "\n",
            "  added / updated specs: \n",
            "    - cudf\n",
            "    - cuml\n",
            "\n",
            "\n",
            "The following packages will be downloaded:\n",
            "\n",
            "    package                    |            build\n",
            "    ---------------------------|-----------------\n",
            "    libiconv-1.15              |    h516909a_1005         2.0 MB  conda-forge\n",
            "    zstd-1.4.0                 |       h3b9ef0a_0         928 KB  conda-forge\n",
            "    lzo-2.10                   |    h14c3975_1000         319 KB  conda-forge\n",
            "    libxml2-2.9.9              |       h13577e0_2         1.3 MB  conda-forge\n",
            "    cudf-0.9.0a                |        py36_1525         3.8 MB  rapidsai-nightly/label/cuda10.0\n",
            "    numba-0.45.0               |   py36hb3f55d8_0         3.1 MB  conda-forge\n",
            "    python-libarchive-c-2.8    |        py36_1004          21 KB  conda-forge\n",
            "    certifi-2019.6.16          |           py36_1         149 KB  conda-forge\n",
            "    pyarrow-0.12.1             |   py36hbbcf98d_0         2.2 MB  conda-forge\n",
            "    sqlite-3.28.0              |       h8b20d00_0         1.9 MB  conda-forge\n",
            "    arrow-cpp-0.12.1           |   py36h0e61e49_0         6.9 MB  conda-forge\n",
            "    python-3.6.7               |    h381d211_1004        34.5 MB  conda-forge\n",
            "    tqdm-4.32.2                |             py_0          41 KB  conda-forge\n",
            "    pandas-0.25.0              |   py36hb3f55d8_0        11.4 MB  conda-forge\n",
            "    numpy-1.16.4               |   py36h95a1406_0         4.3 MB  conda-forge\n",
            "    cryptography-2.7           |   py36h72c5cf5_0         607 KB  conda-forge\n",
            "    libarchive-3.3.3           |    hb44662c_1005         1.4 MB  conda-forge\n",
            "    conda-4.7.10               |           py36_0         3.0 MB  conda-forge\n",
            "    rmm-0.9.0a1                |           py36_2          14 KB  rapidsai-nightly/label/cuda10.0\n",
            "    llvmlite-0.29.0            |   py36hfd453ef_1        19.9 MB  conda-forge\n",
            "    cuml-0.9.0a1               |cuda10.0_py36_200         4.6 MB  rapidsai-nightly/label/cuda10.0\n",
            "    nvstrings-0.9.0a1          |          py36_24         122 KB  rapidsai-nightly/label/cuda10.0\n",
            "    cython-0.29.12             |   py36he1b5a44_0         2.2 MB  conda-forge\n",
            "    conda-package-handling-1.3.11|           py36_0         257 KB  conda-forge\n",
            "    lz4-c-1.8.3                |    he1b5a44_1001         187 KB  conda-forge\n",
            "    ------------------------------------------------------------\n",
            "                                           Total:       105.1 MB\n",
            "\n",
            "The following NEW packages will be INSTALLED:\n",
            "\n",
            "    conda-package-handling: 1.3.11-py36_0             conda-forge                    \n",
            "    libarchive:             3.3.3-hb44662c_1005       conda-forge                    \n",
            "    libiconv:               1.15-h516909a_1005        conda-forge                    \n",
            "    libxml2:                2.9.9-h13577e0_2          conda-forge                    \n",
            "    lz4-c:                  1.8.3-he1b5a44_1001       conda-forge                    \n",
            "    lzo:                    2.10-h14c3975_1000        conda-forge                    \n",
            "    python-libarchive-c:    2.8-py36_1004             conda-forge                    \n",
            "    tqdm:                   4.32.2-py_0               conda-forge                    \n",
            "    zstd:                   1.4.0-h3b9ef0a_0          conda-forge                    \n",
            "\n",
            "The following packages will be UPDATED:\n",
            "\n",
            "    arrow-cpp:              0.12.1-py37h0e61e49_0     conda-forge                     --> 0.12.1-py36h0e61e49_0     conda-forge                    \n",
            "    ca-certificates:        2018.03.07-0                                              --> 2019.6.16-hecc5488_0      conda-forge                    \n",
            "    certifi:                2018.4.16-py36_0                                          --> 2019.6.16-py36_1          conda-forge                    \n",
            "    conda:                  4.5.4-py36_0                                              --> 4.7.10-py36_0             conda-forge                    \n",
            "    cryptography:           2.2.2-py36h14c3975_0                                      --> 2.7-py36h72c5cf5_0        conda-forge                    \n",
            "    cudf:                   0.9.0a-py37_1525          rapidsai-nightly/label/cuda10.0 --> 0.9.0a-py36_1525          rapidsai-nightly/label/cuda10.0\n",
            "    cuml:                   0.9.0a1-cuda10.0_py37_200 rapidsai-nightly/label/cuda10.0 --> 0.9.0a1-cuda10.0_py36_200 rapidsai-nightly/label/cuda10.0\n",
            "    cython:                 0.29.12-py37he1b5a44_0    conda-forge                     --> 0.29.12-py36he1b5a44_0    conda-forge                    \n",
            "    libgcc-ng:              7.2.0-hdf63c60_3                                          --> 9.1.0-hdf63c60_0                                         \n",
            "    libstdcxx-ng:           7.2.0-hdf63c60_3                                          --> 9.1.0-hdf63c60_0                                         \n",
            "    llvmlite:               0.29.0-py37hfd453ef_1     conda-forge                     --> 0.29.0-py36hfd453ef_1     conda-forge                    \n",
            "    numba:                  0.45.0-py37hb3f55d8_0     conda-forge                     --> 0.45.0-py36hb3f55d8_0     conda-forge                    \n",
            "    numpy:                  1.16.4-py37h95a1406_0     conda-forge                     --> 1.16.4-py36h95a1406_0     conda-forge                    \n",
            "    nvstrings:              0.9.0a1-py37_24           rapidsai-nightly/label/cuda10.0 --> 0.9.0a1-py36_24           rapidsai-nightly/label/cuda10.0\n",
            "    openssl:                1.0.2o-h20670df_0                                         --> 1.1.1c-h516909a_0         conda-forge                    \n",
            "    pandas:                 0.25.0-py37hb3f55d8_0     conda-forge                     --> 0.25.0-py36hb3f55d8_0     conda-forge                    \n",
            "    pyarrow:                0.12.1-py37hbbcf98d_0     conda-forge                     --> 0.12.1-py36hbbcf98d_0     conda-forge                    \n",
            "    python:                 3.6.5-hc3d631a_2                                          --> 3.6.7-h381d211_1004       conda-forge                    \n",
            "    rmm:                    0.9.0a1-py37_2            rapidsai-nightly/label/cuda10.0 --> 0.9.0a1-py36_2            rapidsai-nightly/label/cuda10.0\n",
            "    sqlite:                 3.23.1-he433501_0                                         --> 3.28.0-h8b20d00_0         conda-forge                    \n",
            "    tk:                     8.6.7-hc745277_3                                          --> 8.6.9-hed695b0_1002       conda-forge                    \n",
            "\n",
            "Preparing transaction: ...working... done\n",
            "Verifying transaction: ...working... done\n",
            "Executing transaction: ...working... done\n"
          ],
          "name": "stdout"
        }
      ]
    },
    {
      "cell_type": "code",
      "metadata": {
        "id": "kG2OWglFbUNf",
        "colab_type": "code",
        "outputId": "d357413e-464f-4287-ccff-93f7e2223fe9",
        "colab": {
          "base_uri": "https://localhost:8080/",
          "height": 125
        }
      },
      "source": [
        "! pip install dask"
      ],
      "execution_count": 0,
      "outputs": [
        {
          "output_type": "stream",
          "text": [
            "Collecting dask\n",
            "\u001b[?25l  Downloading https://files.pythonhosted.org/packages/3f/5e/45d829bbb3c7489b8b0b77109bbd0b248732973a6b3cb65f54ccaf712c5e/dask-2.1.0-py3-none-any.whl (763kB)\n",
            "\u001b[K     |████████████████████████████████| 768kB 2.8MB/s \n",
            "\u001b[?25hInstalling collected packages: dask\n",
            "Successfully installed dask-2.1.0\n"
          ],
          "name": "stdout"
        }
      ]
    },
    {
      "cell_type": "code",
      "metadata": {
        "id": "JX40KSIhV5GE",
        "colab_type": "code",
        "outputId": "769aa5d2-86ee-462d-9349-e49eb487d02c",
        "colab": {
          "base_uri": "https://localhost:8080/",
          "height": 899
        }
      },
      "source": [
        "! pip install dask_cuda"
      ],
      "execution_count": 0,
      "outputs": [
        {
          "output_type": "stream",
          "text": [
            "Collecting dask_cuda\n",
            "  Downloading https://files.pythonhosted.org/packages/a6/3f/6e776a21f378e1b761ce62e335866c3def08701cd9b89a5f0fa8ec98ce7e/dask_cuda-0.6.0-py3-none-any.whl\n",
            "Requirement already satisfied: dask>=1.1.4 in /usr/local/lib/python3.7/site-packages (from dask_cuda) (2.1.0)\n",
            "Collecting distributed>=1.25.2 (from dask_cuda)\n",
            "\u001b[?25l  Downloading https://files.pythonhosted.org/packages/b7/14/d3724c89afaf04699acc184c35ae172aa98234920291e529744d66d71733/distributed-2.1.0-py3-none-any.whl (532kB)\n",
            "\u001b[K     |████████████████████████████████| 532kB 4.1MB/s \n",
            "\u001b[?25hCollecting zict>=0.1.3 (from distributed>=1.25.2->dask_cuda)\n",
            "  Downloading https://files.pythonhosted.org/packages/64/b4/a904be4184814adb9dfc2e679c4e611392080a32726a657a34cab93b38c2/zict-1.0.0-py2.py3-none-any.whl\n",
            "Collecting click>=6.6 (from distributed>=1.25.2->dask_cuda)\n",
            "\u001b[?25l  Downloading https://files.pythonhosted.org/packages/fa/37/45185cb5abbc30d7257104c434fe0b07e5a195a6847506c074527aa599ec/Click-7.0-py2.py3-none-any.whl (81kB)\n",
            "\u001b[K     |████████████████████████████████| 81kB 31.7MB/s \n",
            "\u001b[?25hCollecting psutil>=5.0 (from distributed>=1.25.2->dask_cuda)\n",
            "\u001b[?25l  Downloading https://files.pythonhosted.org/packages/1c/ca/5b8c1fe032a458c2c4bcbe509d1401dca9dda35c7fc46b36bb81c2834740/psutil-5.6.3.tar.gz (435kB)\n",
            "\u001b[K     |████████████████████████████████| 440kB 52.1MB/s \n",
            "\u001b[?25hRequirement already satisfied: six in /usr/local/lib/python3.7/site-packages (from distributed>=1.25.2->dask_cuda) (1.12.0)\n",
            "Collecting sortedcontainers!=2.0.0,!=2.0.1 (from distributed>=1.25.2->dask_cuda)\n",
            "  Downloading https://files.pythonhosted.org/packages/13/f3/cf85f7c3a2dbd1a515d51e1f1676d971abe41bba6f4ab5443240d9a78e5b/sortedcontainers-2.1.0-py2.py3-none-any.whl\n",
            "Collecting cloudpickle>=0.2.2 (from distributed>=1.25.2->dask_cuda)\n",
            "  Downloading https://files.pythonhosted.org/packages/09/f4/4a080c349c1680a2086196fcf0286a65931708156f39568ed7051e42ff6a/cloudpickle-1.2.1-py2.py3-none-any.whl\n",
            "Collecting tornado>=5 (from distributed>=1.25.2->dask_cuda)\n",
            "\u001b[?25l  Downloading https://files.pythonhosted.org/packages/30/78/2d2823598496127b21423baffaa186b668f73cd91887fcef78b6eade136b/tornado-6.0.3.tar.gz (482kB)\n",
            "\u001b[K     |████████████████████████████████| 491kB 48.0MB/s \n",
            "\u001b[?25hCollecting toolz>=0.7.4 (from distributed>=1.25.2->dask_cuda)\n",
            "\u001b[?25l  Downloading https://files.pythonhosted.org/packages/22/8e/037b9ba5c6a5739ef0dcde60578c64d49f45f64c5e5e886531bfbc39157f/toolz-0.10.0.tar.gz (49kB)\n",
            "\u001b[K     |████████████████████████████████| 51kB 25.2MB/s \n",
            "\u001b[?25hCollecting msgpack (from distributed>=1.25.2->dask_cuda)\n",
            "\u001b[?25l  Downloading https://files.pythonhosted.org/packages/a8/7b/630049fc4af9e68a625738612edc264ce7cb586c5001a2d4d2209a4f61c1/msgpack-0.6.1-cp37-cp37m-manylinux1_x86_64.whl (245kB)\n",
            "\u001b[K     |████████████████████████████████| 245kB 50.0MB/s \n",
            "\u001b[?25hCollecting tblib (from distributed>=1.25.2->dask_cuda)\n",
            "  Downloading https://files.pythonhosted.org/packages/64/b5/ebb1af4d843047ccd7292b92f5e5f8643153e8b95d14508d9fe3b35f7004/tblib-1.4.0-py2.py3-none-any.whl\n",
            "Collecting pyyaml (from distributed>=1.25.2->dask_cuda)\n",
            "\u001b[?25l  Downloading https://files.pythonhosted.org/packages/a3/65/837fefac7475963d1eccf4aa684c23b95aa6c1d033a2c5965ccb11e22623/PyYAML-5.1.1.tar.gz (274kB)\n",
            "\u001b[K     |████████████████████████████████| 276kB 54.0MB/s \n",
            "\u001b[?25hCollecting heapdict (from zict>=0.1.3->distributed>=1.25.2->dask_cuda)\n",
            "  Downloading https://files.pythonhosted.org/packages/e2/ca/f5feba2f939c97629dbce52a17acc95a0d10256ef620334795379dda8ce6/HeapDict-1.0.0.tar.gz\n",
            "Building wheels for collected packages: psutil, tornado, toolz, pyyaml, heapdict\n",
            "  Building wheel for psutil (setup.py) ... \u001b[?25l\u001b[?25hdone\n",
            "  Stored in directory: /root/.cache/pip/wheels/90/7e/74/bb640d77775e6b6a78bcc3120f9fea4d2a28b2706de1cff37d\n",
            "  Building wheel for tornado (setup.py) ... \u001b[?25l\u001b[?25hdone\n",
            "  Stored in directory: /root/.cache/pip/wheels/84/bf/40/2f6ef700f48401ca40e5e3dd7d0e3c0a90e064897b7fe5fc08\n",
            "  Building wheel for toolz (setup.py) ... \u001b[?25l\u001b[?25hdone\n",
            "  Stored in directory: /root/.cache/pip/wheels/e1/8b/65/3294e5b727440250bda09e8c0153b7ba19d328f661605cb151\n",
            "  Building wheel for pyyaml (setup.py) ... \u001b[?25l\u001b[?25hdone\n",
            "  Stored in directory: /root/.cache/pip/wheels/16/27/a1/775c62ddea7bfa62324fd1f65847ed31c55dadb6051481ba3f\n",
            "  Building wheel for heapdict (setup.py) ... \u001b[?25l\u001b[?25hdone\n",
            "  Stored in directory: /root/.cache/pip/wheels/40/b9/42/344857b482c954f48bcff6db72d388e30bf2bee4ed14706faa\n",
            "Successfully built psutil tornado toolz pyyaml heapdict\n",
            "Installing collected packages: heapdict, zict, click, psutil, sortedcontainers, cloudpickle, tornado, toolz, msgpack, tblib, pyyaml, distributed, dask-cuda\n",
            "Successfully installed click-7.0 cloudpickle-1.2.1 dask-cuda-0.6.0 distributed-2.1.0 heapdict-1.0.0 msgpack-0.6.1 psutil-5.6.3 pyyaml-5.1.1 sortedcontainers-2.1.0 tblib-1.4.0 toolz-0.10.0 tornado-6.0.3 zict-1.0.0\n"
          ],
          "name": "stdout"
        }
      ]
    },
    {
      "cell_type": "code",
      "metadata": {
        "id": "pItO6RlSbR1_",
        "colab_type": "code",
        "outputId": "6492821e-984e-43fa-9475-070066916a22",
        "colab": {
          "base_uri": "https://localhost:8080/",
          "height": 127
        }
      },
      "source": [
        "from dask.distributed import Client, LocalCluster, wait, progress\n",
        "\n",
        "\n",
        "# we have one GPU, so limit Dask's workers and threads to exactly 1\n",
        "cluster = LocalCluster(processes=False)\n",
        "client = Client(cluster)\n",
        "client"
      ],
      "execution_count": 0,
      "outputs": [
        {
          "output_type": "execute_result",
          "data": {
            "text/html": [
              "<table style=\"border: 2px solid white;\">\n",
              "<tr>\n",
              "<td style=\"vertical-align: top; border: 0px solid white\">\n",
              "<h3>Client</h3>\n",
              "<ul>\n",
              "  <li><b>Scheduler: </b>inproc://172.28.0.2/138/1\n",
              "  <li><b>Dashboard: </b><a href='http://localhost:8787/status' target='_blank'>http://localhost:8787/status</a>\n",
              "</ul>\n",
              "</td>\n",
              "<td style=\"vertical-align: top; border: 0px solid white\">\n",
              "<h3>Cluster</h3>\n",
              "<ul>\n",
              "  <li><b>Workers: </b>1</li>\n",
              "  <li><b>Cores: </b>2</li>\n",
              "  <li><b>Memory: </b>13.66 GB</li>\n",
              "</ul>\n",
              "</td>\n",
              "</tr>\n",
              "</table>"
            ],
            "text/plain": [
              "<Client: scheduler='inproc://172.28.0.2/138/1' processes=1 cores=2>"
            ]
          },
          "metadata": {
            "tags": []
          },
          "execution_count": 6
        }
      ]
    },
    {
      "cell_type": "code",
      "metadata": {
        "id": "cjSjDvHxUint",
        "colab_type": "code",
        "outputId": "26ade5bd-2ac8-46e0-c107-461bb07a8755",
        "colab": {
          "base_uri": "https://localhost:8080/",
          "height": 477
        }
      },
      "source": [
        "! pip install dask_xgboost"
      ],
      "execution_count": 0,
      "outputs": [
        {
          "output_type": "stream",
          "text": [
            "Collecting dask_xgboost\n",
            "  Downloading https://files.pythonhosted.org/packages/9f/0a/717a74df509093abffca80bdae0b1f23c8728172598ea406d54a2667aaea/dask_xgboost-0.1.7-py2.py3-none-any.whl\n",
            "Requirement already satisfied: distributed>=1.15.2 in /usr/local/lib/python3.7/site-packages (from dask_xgboost) (2.1.0)\n",
            "Requirement already satisfied: dask in /usr/local/lib/python3.7/site-packages (from dask_xgboost) (2.1.0)\n",
            "Collecting xgboost (from dask_xgboost)\n",
            "\u001b[?25l  Downloading https://files.pythonhosted.org/packages/c1/24/5fe7237b2eca13ee0cfb100bec8c23f4e69ce9df852a64b0493d49dae4e0/xgboost-0.90-py2.py3-none-manylinux1_x86_64.whl (142.8MB)\n",
            "\u001b[K     |████████████████████████████████| 142.8MB 221kB/s \n",
            "\u001b[?25hRequirement already satisfied: cloudpickle>=0.2.2 in /usr/local/lib/python3.7/site-packages (from distributed>=1.15.2->dask_xgboost) (1.2.1)\n",
            "Requirement already satisfied: pyyaml in /usr/local/lib/python3.7/site-packages (from distributed>=1.15.2->dask_xgboost) (5.1.1)\n",
            "Requirement already satisfied: psutil>=5.0 in /usr/local/lib/python3.7/site-packages (from distributed>=1.15.2->dask_xgboost) (5.6.3)\n",
            "Requirement already satisfied: sortedcontainers!=2.0.0,!=2.0.1 in /usr/local/lib/python3.7/site-packages (from distributed>=1.15.2->dask_xgboost) (2.1.0)\n",
            "Requirement already satisfied: toolz>=0.7.4 in /usr/local/lib/python3.7/site-packages (from distributed>=1.15.2->dask_xgboost) (0.10.0)\n",
            "Requirement already satisfied: tblib in /usr/local/lib/python3.7/site-packages (from distributed>=1.15.2->dask_xgboost) (1.4.0)\n",
            "Requirement already satisfied: zict>=0.1.3 in /usr/local/lib/python3.7/site-packages (from distributed>=1.15.2->dask_xgboost) (1.0.0)\n",
            "Requirement already satisfied: tornado>=5 in /usr/local/lib/python3.7/site-packages (from distributed>=1.15.2->dask_xgboost) (6.0.3)\n",
            "Requirement already satisfied: msgpack in /usr/local/lib/python3.7/site-packages (from distributed>=1.15.2->dask_xgboost) (0.6.1)\n",
            "Requirement already satisfied: six in /usr/local/lib/python3.7/site-packages (from distributed>=1.15.2->dask_xgboost) (1.12.0)\n",
            "Requirement already satisfied: click>=6.6 in /usr/local/lib/python3.7/site-packages (from distributed>=1.15.2->dask_xgboost) (7.0)\n",
            "Collecting scipy (from xgboost->dask_xgboost)\n",
            "\u001b[?25l  Downloading https://files.pythonhosted.org/packages/5d/bd/c0feba81fb60e231cf40fc8a322ed5873c90ef7711795508692b1481a4ae/scipy-1.3.0-cp37-cp37m-manylinux1_x86_64.whl (25.2MB)\n",
            "\u001b[K     |████████████████████████████████| 25.2MB 1.3MB/s \n",
            "\u001b[?25hRequirement already satisfied: numpy in /usr/local/lib/python3.7/site-packages (from xgboost->dask_xgboost) (1.16.4)\n",
            "Requirement already satisfied: heapdict in /usr/local/lib/python3.7/site-packages (from zict>=0.1.3->distributed>=1.15.2->dask_xgboost) (1.0.0)\n",
            "Installing collected packages: scipy, xgboost, dask-xgboost\n",
            "Successfully installed dask-xgboost-0.1.7 scipy-1.3.0 xgboost-0.90\n"
          ],
          "name": "stdout"
        }
      ]
    },
    {
      "cell_type": "code",
      "metadata": {
        "id": "v1rpjr_Vf9US",
        "colab_type": "code",
        "outputId": "2bc34f6a-48cc-4ac7-d34e-db7610da0f73",
        "colab": {
          "base_uri": "https://localhost:8080/",
          "height": 1000
        }
      },
      "source": [
        "!pip install dask_xgboost\n",
        "!pip install dask_cudf\n",
        "!pip install dask_cuml"
      ],
      "execution_count": 0,
      "outputs": [
        {
          "output_type": "stream",
          "text": [
            "Collecting dask_xgboost\n",
            "  Using cached https://files.pythonhosted.org/packages/9f/0a/717a74df509093abffca80bdae0b1f23c8728172598ea406d54a2667aaea/dask_xgboost-0.1.7-py2.py3-none-any.whl\n",
            "Collecting dask (from dask_xgboost)\n",
            "  Using cached https://files.pythonhosted.org/packages/3f/5e/45d829bbb3c7489b8b0b77109bbd0b248732973a6b3cb65f54ccaf712c5e/dask-2.1.0-py3-none-any.whl\n",
            "Collecting xgboost (from dask_xgboost)\n",
            "  Using cached https://files.pythonhosted.org/packages/c1/24/5fe7237b2eca13ee0cfb100bec8c23f4e69ce9df852a64b0493d49dae4e0/xgboost-0.90-py2.py3-none-manylinux1_x86_64.whl\n",
            "Collecting distributed>=1.15.2 (from dask_xgboost)\n",
            "  Using cached https://files.pythonhosted.org/packages/b7/14/d3724c89afaf04699acc184c35ae172aa98234920291e529744d66d71733/distributed-2.1.0-py3-none-any.whl\n",
            "Requirement already satisfied: numpy in /usr/local/lib/python3.6/site-packages (from xgboost->dask_xgboost) (1.16.4)\n",
            "Collecting scipy (from xgboost->dask_xgboost)\n",
            "\u001b[?25l  Downloading https://files.pythonhosted.org/packages/72/4c/5f81e7264b0a7a8bd570810f48cd346ba36faedbd2ba255c873ad556de76/scipy-1.3.0-cp36-cp36m-manylinux1_x86_64.whl (25.2MB)\n",
            "\u001b[K    100% |████████████████████████████████| 25.2MB 2.1MB/s \n",
            "\u001b[?25hCollecting click>=6.6 (from distributed>=1.15.2->dask_xgboost)\n",
            "  Using cached https://files.pythonhosted.org/packages/fa/37/45185cb5abbc30d7257104c434fe0b07e5a195a6847506c074527aa599ec/Click-7.0-py2.py3-none-any.whl\n",
            "Collecting zict>=0.1.3 (from distributed>=1.15.2->dask_xgboost)\n",
            "  Using cached https://files.pythonhosted.org/packages/64/b4/a904be4184814adb9dfc2e679c4e611392080a32726a657a34cab93b38c2/zict-1.0.0-py2.py3-none-any.whl\n",
            "Collecting tornado>=5 (from distributed>=1.15.2->dask_xgboost)\n",
            "  Using cached https://files.pythonhosted.org/packages/30/78/2d2823598496127b21423baffaa186b668f73cd91887fcef78b6eade136b/tornado-6.0.3.tar.gz\n",
            "Collecting msgpack (from distributed>=1.15.2->dask_xgboost)\n",
            "\u001b[?25l  Downloading https://files.pythonhosted.org/packages/92/7e/ae9e91c1bb8d846efafd1f353476e3fd7309778b582d2fb4cea4cc15b9a2/msgpack-0.6.1-cp36-cp36m-manylinux1_x86_64.whl (248kB)\n",
            "\u001b[K    100% |████████████████████████████████| 256kB 28.0MB/s \n",
            "\u001b[?25hCollecting pyyaml (from distributed>=1.15.2->dask_xgboost)\n",
            "  Using cached https://files.pythonhosted.org/packages/a3/65/837fefac7475963d1eccf4aa684c23b95aa6c1d033a2c5965ccb11e22623/PyYAML-5.1.1.tar.gz\n",
            "Collecting sortedcontainers!=2.0.0,!=2.0.1 (from distributed>=1.15.2->dask_xgboost)\n",
            "  Using cached https://files.pythonhosted.org/packages/13/f3/cf85f7c3a2dbd1a515d51e1f1676d971abe41bba6f4ab5443240d9a78e5b/sortedcontainers-2.1.0-py2.py3-none-any.whl\n",
            "Collecting cloudpickle>=0.2.2 (from distributed>=1.15.2->dask_xgboost)\n",
            "  Using cached https://files.pythonhosted.org/packages/09/f4/4a080c349c1680a2086196fcf0286a65931708156f39568ed7051e42ff6a/cloudpickle-1.2.1-py2.py3-none-any.whl\n",
            "Collecting psutil>=5.0 (from distributed>=1.15.2->dask_xgboost)\n",
            "  Using cached https://files.pythonhosted.org/packages/1c/ca/5b8c1fe032a458c2c4bcbe509d1401dca9dda35c7fc46b36bb81c2834740/psutil-5.6.3.tar.gz\n",
            "Requirement already satisfied: six in /usr/local/lib/python3.6/site-packages (from distributed>=1.15.2->dask_xgboost) (1.11.0)\n",
            "Collecting tblib (from distributed>=1.15.2->dask_xgboost)\n",
            "  Using cached https://files.pythonhosted.org/packages/64/b5/ebb1af4d843047ccd7292b92f5e5f8643153e8b95d14508d9fe3b35f7004/tblib-1.4.0-py2.py3-none-any.whl\n",
            "Collecting toolz>=0.7.4 (from distributed>=1.15.2->dask_xgboost)\n",
            "  Using cached https://files.pythonhosted.org/packages/22/8e/037b9ba5c6a5739ef0dcde60578c64d49f45f64c5e5e886531bfbc39157f/toolz-0.10.0.tar.gz\n",
            "Collecting heapdict (from zict>=0.1.3->distributed>=1.15.2->dask_xgboost)\n",
            "  Using cached https://files.pythonhosted.org/packages/e2/ca/f5feba2f939c97629dbce52a17acc95a0d10256ef620334795379dda8ce6/HeapDict-1.0.0.tar.gz\n",
            "Building wheels for collected packages: tornado, pyyaml, psutil, toolz, heapdict\n",
            "  Running setup.py bdist_wheel for tornado ... \u001b[?25ldone\n",
            "\u001b[?25h  Stored in directory: /root/.cache/pip/wheels/84/bf/40/2f6ef700f48401ca40e5e3dd7d0e3c0a90e064897b7fe5fc08\n",
            "  Running setup.py bdist_wheel for pyyaml ... \u001b[?25ldone\n",
            "\u001b[?25h  Stored in directory: /root/.cache/pip/wheels/16/27/a1/775c62ddea7bfa62324fd1f65847ed31c55dadb6051481ba3f\n",
            "  Running setup.py bdist_wheel for psutil ... \u001b[?25ldone\n",
            "\u001b[?25h  Stored in directory: /root/.cache/pip/wheels/90/7e/74/bb640d77775e6b6a78bcc3120f9fea4d2a28b2706de1cff37d\n",
            "  Running setup.py bdist_wheel for toolz ... \u001b[?25ldone\n",
            "\u001b[?25h  Stored in directory: /root/.cache/pip/wheels/e1/8b/65/3294e5b727440250bda09e8c0153b7ba19d328f661605cb151\n",
            "  Running setup.py bdist_wheel for heapdict ... \u001b[?25ldone\n",
            "\u001b[?25h  Stored in directory: /root/.cache/pip/wheels/40/b9/42/344857b482c954f48bcff6db72d388e30bf2bee4ed14706faa\n",
            "Successfully built tornado pyyaml psutil toolz heapdict\n",
            "\u001b[31mpandas 0.25.0 requires python-dateutil>=2.6.1, which is not installed.\u001b[0m\n",
            "\u001b[31mpandas 0.25.0 requires pytz>=2017.2, which is not installed.\u001b[0m\n",
            "Installing collected packages: dask, scipy, xgboost, click, heapdict, zict, tornado, msgpack, pyyaml, sortedcontainers, cloudpickle, psutil, tblib, toolz, distributed, dask-xgboost\n",
            "Successfully installed click-7.0 cloudpickle-1.2.1 dask-2.1.0 dask-xgboost-0.1.7 distributed-2.1.0 heapdict-1.0.0 msgpack-0.6.1 psutil-5.6.3 pyyaml-5.1.1 scipy-1.3.0 sortedcontainers-2.1.0 tblib-1.4.0 toolz-0.10.0 tornado-6.0.3 xgboost-0.90 zict-1.0.0\n"
          ],
          "name": "stdout"
        },
        {
          "output_type": "display_data",
          "data": {
            "application/vnd.colab-display-data+json": {
              "pip_warning": {
                "packages": [
                  "click",
                  "heapdict",
                  "scipy",
                  "sortedcontainers",
                  "tblib",
                  "toolz",
                  "xgboost",
                  "zict"
                ]
              }
            }
          },
          "metadata": {
            "tags": []
          }
        },
        {
          "output_type": "stream",
          "text": [
            "Collecting dask_cudf\n",
            "  Using cached https://files.pythonhosted.org/packages/38/93/6b884d55e74aba03e81a29c3b681fe1670ad8aabc5f38423bc1dfd75452b/dask_cudf-0.6.1-py3-none-any.whl\n",
            "Collecting cudf==0.6.* (from dask_cudf)\n",
            "\u001b[?25l  Downloading https://files.pythonhosted.org/packages/c7/ef/0b011612d6a8f981b0c9ab959da9dc4975f144b2f7806cd7eb7f10a15b21/cudf-0.6.1-cp36-cp36m-manylinux1_x86_64.whl (17.2MB)\n",
            "\u001b[K    100% |████████████████████████████████| 17.2MB 2.8MB/s \n",
            "\u001b[?25hRequirement already satisfied: distributed>=1.23.0 in /usr/local/lib/python3.6/site-packages (from dask_cudf) (2.1.0)\n",
            "Requirement already satisfied: dask>=0.19.0 in /usr/local/lib/python3.6/site-packages (from dask_cudf) (2.1.0)\n",
            "Requirement already satisfied: cffi>=1.0.0 in /usr/local/lib/python3.6/site-packages (from cudf==0.6.*->dask_cudf) (1.11.5)\n",
            "Requirement already satisfied: pandas>=0.23.4 in /usr/local/lib/python3.6/site-packages (from cudf==0.6.*->dask_cudf) (0.25.0)\n",
            "Collecting numba<0.42,>=0.40.0 (from cudf==0.6.*->dask_cudf)\n",
            "\u001b[?25l  Downloading https://files.pythonhosted.org/packages/31/55/938f0023a4f37fe24460d46846670aba8170a6b736f1693293e710d4a6d0/numba-0.41.0-cp36-cp36m-manylinux1_x86_64.whl (3.2MB)\n",
            "\u001b[K    100% |████████████████████████████████| 3.2MB 10.8MB/s \n",
            "\u001b[?25hRequirement already satisfied: nvstrings-cuda92 in /usr/local/lib/python3.6/site-packages (from cudf==0.6.*->dask_cudf) (0.9.0a1)\n",
            "Collecting pycparser==2.19 (from cudf==0.6.*->dask_cudf)\n",
            "\u001b[?25l  Downloading https://files.pythonhosted.org/packages/68/9e/49196946aee219aead1290e00d1e7fdeab8567783e83e1b9ab5585e6206a/pycparser-2.19.tar.gz (158kB)\n",
            "\u001b[K    100% |████████████████████████████████| 163kB 35.6MB/s \n",
            "\u001b[?25hRequirement already satisfied: cython<0.30,>=0.29 in /usr/local/lib/python3.6/site-packages (from cudf==0.6.*->dask_cudf) (0.29.12)\n",
            "Requirement already satisfied: numpy>=1.14 in /usr/local/lib/python3.6/site-packages (from cudf==0.6.*->dask_cudf) (1.16.4)\n",
            "Requirement already satisfied: pyarrow==0.12.1 in /usr/local/lib/python3.6/site-packages (from cudf==0.6.*->dask_cudf) (0.12.1)\n",
            "Requirement already satisfied: click>=6.6 in /usr/local/lib/python3.6/site-packages (from distributed>=1.23.0->dask_cudf) (7.0)\n",
            "Requirement already satisfied: tornado>=5 in /usr/local/lib/python3.6/site-packages (from distributed>=1.23.0->dask_cudf) (6.0.3)\n",
            "Requirement already satisfied: zict>=0.1.3 in /usr/local/lib/python3.6/site-packages (from distributed>=1.23.0->dask_cudf) (1.0.0)\n",
            "Requirement already satisfied: msgpack in /usr/local/lib/python3.6/site-packages (from distributed>=1.23.0->dask_cudf) (0.6.1)\n",
            "Requirement already satisfied: tblib in /usr/local/lib/python3.6/site-packages (from distributed>=1.23.0->dask_cudf) (1.4.0)\n",
            "Requirement already satisfied: sortedcontainers!=2.0.0,!=2.0.1 in /usr/local/lib/python3.6/site-packages (from distributed>=1.23.0->dask_cudf) (2.1.0)\n",
            "Requirement already satisfied: psutil>=5.0 in /usr/local/lib/python3.6/site-packages (from distributed>=1.23.0->dask_cudf) (5.6.3)\n",
            "Requirement already satisfied: six in /usr/local/lib/python3.6/site-packages (from distributed>=1.23.0->dask_cudf) (1.11.0)\n",
            "Requirement already satisfied: toolz>=0.7.4 in /usr/local/lib/python3.6/site-packages (from distributed>=1.23.0->dask_cudf) (0.10.0)\n",
            "Requirement already satisfied: cloudpickle>=0.2.2 in /usr/local/lib/python3.6/site-packages (from distributed>=1.23.0->dask_cudf) (1.2.1)\n",
            "Requirement already satisfied: pyyaml in /usr/local/lib/python3.6/site-packages (from distributed>=1.23.0->dask_cudf) (5.1.1)\n",
            "Collecting python-dateutil>=2.6.1 (from pandas>=0.23.4->cudf==0.6.*->dask_cudf)\n",
            "\u001b[?25l  Downloading https://files.pythonhosted.org/packages/41/17/c62faccbfbd163c7f57f3844689e3a78bae1f403648a6afb1d0866d87fbb/python_dateutil-2.8.0-py2.py3-none-any.whl (226kB)\n",
            "\u001b[K    100% |████████████████████████████████| 235kB 33.5MB/s \n",
            "\u001b[?25hCollecting pytz>=2017.2 (from pandas>=0.23.4->cudf==0.6.*->dask_cudf)\n",
            "\u001b[?25l  Downloading https://files.pythonhosted.org/packages/3d/73/fe30c2daaaa0713420d0382b16fbb761409f532c56bdcc514bf7b6262bb6/pytz-2019.1-py2.py3-none-any.whl (510kB)\n",
            "\u001b[K    100% |████████████████████████████████| 512kB 16.5MB/s \n",
            "\u001b[?25hRequirement already satisfied: llvmlite>=0.26.0dev0 in /usr/local/lib/python3.6/site-packages (from numba<0.42,>=0.40.0->cudf==0.6.*->dask_cudf) (0.29.0)\n",
            "Requirement already satisfied: heapdict in /usr/local/lib/python3.6/site-packages (from zict>=0.1.3->distributed>=1.23.0->dask_cudf) (1.0.0)\n",
            "Building wheels for collected packages: pycparser\n",
            "  Running setup.py bdist_wheel for pycparser ... \u001b[?25ldone\n",
            "\u001b[?25h  Stored in directory: /root/.cache/pip/wheels/f2/9a/90/de94f8556265ddc9d9c8b271b0f63e57b26fb1d67a45564511\n",
            "Successfully built pycparser\n",
            "Installing collected packages: numba, pycparser, cudf, dask-cudf, python-dateutil, pytz\n",
            "  Found existing installation: numba 0.45.0\n",
            "    Uninstalling numba-0.45.0:\n",
            "      Successfully uninstalled numba-0.45.0\n",
            "  Found existing installation: pycparser 2.18\n",
            "    Uninstalling pycparser-2.18:\n",
            "      Successfully uninstalled pycparser-2.18\n",
            "  Found existing installation: cudf 0.9.0a0+1525.gd3f19ca.dirty\n",
            "    Uninstalling cudf-0.9.0a0+1525.gd3f19ca.dirty:\n",
            "      Successfully uninstalled cudf-0.9.0a0+1525.gd3f19ca.dirty\n",
            "Successfully installed cudf-0.6.1 dask-cudf-0.6.1 numba-0.41.0 pycparser-2.19 python-dateutil-2.8.0 pytz-2019.1\n",
            "Collecting dask_cuml\n",
            "  Using cached https://files.pythonhosted.org/packages/bd/cf/8934be924072a04966a2bf4984dbab5e0741dca8523dcfab23e39d8d2662/dask_cuml-0.6.0-py3-none-any.whl\n",
            "Requirement already satisfied: numpy in /usr/local/lib/python3.6/site-packages (from dask_cuml) (1.16.4)\n",
            "Installing collected packages: dask-cuml\n",
            "Successfully installed dask-cuml-0.6.0\n"
          ],
          "name": "stdout"
        }
      ]
    },
    {
      "cell_type": "markdown",
      "metadata": {
        "id": "QFL17e10dZaY",
        "colab_type": "text"
      },
      "source": [
        "### Testing"
      ]
    },
    {
      "cell_type": "markdown",
      "metadata": {
        "id": "pnV7hBty28NG",
        "colab_type": "text"
      },
      "source": [
        "#### XGBoost"
      ]
    },
    {
      "cell_type": "code",
      "metadata": {
        "id": "SryJEXPcQaht",
        "colab_type": "code",
        "outputId": "19cd6942-564a-417c-e5ff-861adcc67748",
        "colab": {
          "base_uri": "https://localhost:8080/",
          "height": 70
        }
      },
      "source": [
        "import dask; print('Dask Version:', dask.__version__)\n",
        "import dask_cudf; print('Dask cuDF Version:', dask_cudf.__version__)\n",
        "import dask_xgboost; print('Dask XGBoost Version:', dask_xgboost.__version__)"
      ],
      "execution_count": 0,
      "outputs": [
        {
          "output_type": "stream",
          "text": [
            "Dask Version: 1.1.5\n",
            "Dask cuDF Version: 0.9.0a+1525.gd3f19ca.dirty\n",
            "Dask XGBoost Version: 0.1.7\n"
          ],
          "name": "stdout"
        }
      ]
    },
    {
      "cell_type": "code",
      "metadata": {
        "id": "dqR30RfFXmYl",
        "colab_type": "code",
        "colab": {}
      },
      "source": [
        "import cudf, cuml, xgboost\n",
        "import dask_cudf, dask_cuml, dask_xgboost"
      ],
      "execution_count": 0,
      "outputs": []
    },
    {
      "cell_type": "code",
      "metadata": {
        "id": "_-KfMvvrPGvp",
        "colab_type": "code",
        "colab": {}
      },
      "source": [
        "import pandas as pd\n",
        "import numpy as np\n",
        "from sklearn import preprocessing"
      ],
      "execution_count": 0,
      "outputs": []
    },
    {
      "cell_type": "code",
      "metadata": {
        "id": "09Vyokg9OO7S",
        "colab_type": "code",
        "outputId": "228f8cdf-a721-4851-cfb9-daa76c8888c6",
        "colab": {
          "base_uri": "https://localhost:8080/",
          "height": 203
        }
      },
      "source": [
        "# Creating a linearly separable dataset using Gaussian Distributions.\n",
        "# The first half of the number in Y is 0 and the other half 1.\n",
        "# Therefore I made the first half of the two features quite different from\n",
        "# the second half of the features (setting the value of the means quite \n",
        "# similar) so that make quite simple the classification between the \n",
        "# classes (the data is linearly separable).\n",
        "dataset_len = 200\n",
        "dlen = int(dataset_len/2)\n",
        "X_11 = pd.Series(np.random.normal(2,2,dlen))\n",
        "X_12 = pd.Series(np.random.normal(9,2,dlen))\n",
        "X_1 = pd.concat([X_11, X_12]).reset_index(drop=True)\n",
        "X_21 = pd.Series(np.random.normal(1,3,dlen))\n",
        "X_22 = pd.Series(np.random.normal(7,3,dlen))\n",
        "X_2 = pd.concat([X_21, X_22]).reset_index(drop=True)\n",
        "X_31 = pd.Series(np.random.normal(3,1,dlen))\n",
        "X_32 = pd.Series(np.random.normal(3,4,dlen))\n",
        "X_3 = pd.concat([X_31, X_32]).reset_index(drop=True)\n",
        "Y = pd.Series(np.repeat([0,1],dlen))\n",
        "df = pd.concat([X_1, X_2, X_3, Y], axis=1)\n",
        "df.columns = ['X1', 'X2', 'X3', 'Y']\n",
        "df.head()"
      ],
      "execution_count": 0,
      "outputs": [
        {
          "output_type": "execute_result",
          "data": {
            "text/html": [
              "<div>\n",
              "<style scoped>\n",
              "    .dataframe tbody tr th:only-of-type {\n",
              "        vertical-align: middle;\n",
              "    }\n",
              "\n",
              "    .dataframe tbody tr th {\n",
              "        vertical-align: top;\n",
              "    }\n",
              "\n",
              "    .dataframe thead th {\n",
              "        text-align: right;\n",
              "    }\n",
              "</style>\n",
              "<table border=\"1\" class=\"dataframe\">\n",
              "  <thead>\n",
              "    <tr style=\"text-align: right;\">\n",
              "      <th></th>\n",
              "      <th>X1</th>\n",
              "      <th>X2</th>\n",
              "      <th>X3</th>\n",
              "      <th>Y</th>\n",
              "    </tr>\n",
              "  </thead>\n",
              "  <tbody>\n",
              "    <tr>\n",
              "      <th>0</th>\n",
              "      <td>5.783483</td>\n",
              "      <td>4.631564</td>\n",
              "      <td>3.524137</td>\n",
              "      <td>0</td>\n",
              "    </tr>\n",
              "    <tr>\n",
              "      <th>1</th>\n",
              "      <td>4.064722</td>\n",
              "      <td>-0.216973</td>\n",
              "      <td>2.220087</td>\n",
              "      <td>0</td>\n",
              "    </tr>\n",
              "    <tr>\n",
              "      <th>2</th>\n",
              "      <td>-1.321688</td>\n",
              "      <td>5.912564</td>\n",
              "      <td>0.852416</td>\n",
              "      <td>0</td>\n",
              "    </tr>\n",
              "    <tr>\n",
              "      <th>3</th>\n",
              "      <td>4.689422</td>\n",
              "      <td>2.640566</td>\n",
              "      <td>2.911503</td>\n",
              "      <td>0</td>\n",
              "    </tr>\n",
              "    <tr>\n",
              "      <th>4</th>\n",
              "      <td>0.043322</td>\n",
              "      <td>-4.667435</td>\n",
              "      <td>2.487657</td>\n",
              "      <td>0</td>\n",
              "    </tr>\n",
              "  </tbody>\n",
              "</table>\n",
              "</div>"
            ],
            "text/plain": [
              "         X1        X2        X3  Y\n",
              "0  5.783483  4.631564  3.524137  0\n",
              "1  4.064722 -0.216973  2.220087  0\n",
              "2 -1.321688  5.912564  0.852416  0\n",
              "3  4.689422  2.640566  2.911503  0\n",
              "4  0.043322 -4.667435  2.487657  0"
            ]
          },
          "metadata": {
            "tags": []
          },
          "execution_count": 60
        }
      ]
    },
    {
      "cell_type": "code",
      "metadata": {
        "id": "hMVkFhGvOVoM",
        "colab_type": "code",
        "colab": {}
      },
      "source": [
        "X = df.drop(['Y'], axis = 1) #.values\n",
        "y = df['Y']"
      ],
      "execution_count": 0,
      "outputs": []
    },
    {
      "cell_type": "code",
      "metadata": {
        "id": "l5xI5o5QPRSe",
        "colab_type": "code",
        "colab": {}
      },
      "source": [
        "def preproces(df, X, y, train_size = 0.80):\n",
        "  # label_encoder object knows how to understand word labels. \n",
        "  label_encoder = preprocessing.LabelEncoder() \n",
        "\n",
        "  # Encode labels\n",
        "  y = label_encoder.fit_transform(y) \n",
        "\n",
        "  # identify shape and indices\n",
        "  num_rows, num_columns = df.shape\n",
        "  delim_index = int(num_rows * train_size)\n",
        "\n",
        "  # Splitting the dataset in training and test sets\n",
        "  X_train, y_train = X[:delim_index, :], y[:delim_index]\n",
        "  X_test, y_test = X[delim_index:, :], y[delim_index:]\n",
        "\n",
        "  # Checking sets dimensions\n",
        "  print('X_train dimensions: ', X_train.shape, 'y_train: ', y_train.shape)\n",
        "  print('X_test dimensions:', X_test.shape, 'y_validation: ', y_test.shape)\n",
        "\n",
        "  # Checking dimensions in percentages\n",
        "  total = X_train.shape[0] + X_test.shape[0]\n",
        "  print('X_train Percentage:', (X_train.shape[0]/total)*100, '%')\n",
        "  print('X_test Percentage:', (X_test.shape[0]/total)*100, '%')\n",
        "  \n",
        "  return X_train, y_train, X_test, y_test"
      ],
      "execution_count": 0,
      "outputs": []
    },
    {
      "cell_type": "code",
      "metadata": {
        "id": "2gnPCUiMOdVB",
        "colab_type": "code",
        "outputId": "8f696a3c-af5e-4af3-f685-f3cccbe77ce7",
        "colab": {
          "base_uri": "https://localhost:8080/",
          "height": 87
        }
      },
      "source": [
        "X_train, y_train, X_test, y_test = preproces(df, X, y)"
      ],
      "execution_count": 0,
      "outputs": [
        {
          "output_type": "stream",
          "text": [
            "X_train dimensions:  (160, 3) y_train:  (160,)\n",
            "X_test dimensions: (40, 3) y_validation:  (40,)\n",
            "X_train Percentage: 80.0 %\n",
            "X_test Percentage: 20.0 %\n"
          ],
          "name": "stdout"
        }
      ]
    },
    {
      "cell_type": "code",
      "metadata": {
        "id": "Q8iR603-Q0xW",
        "colab_type": "code",
        "outputId": "8d406a1d-0b58-456b-d210-3a6e02b3952c",
        "colab": {
          "base_uri": "https://localhost:8080/",
          "height": 52
        }
      },
      "source": [
        "# # create Pandas DataFrames for X_train and X_validation\n",
        "n_columns = X_train.shape[1]\n",
        "X_train = pd.DataFrame(X_train)\n",
        "X_train.columns = ['feature_' + str(i) for i in range(n_columns)]\n",
        "X_test = pd.DataFrame(X_test)\n",
        "X_test.columns = ['feature_' + str(i) for i in range(n_columns)]\n",
        "\n",
        "# create Pandas DataFrames for y_train and y_validation\n",
        "y_train = pd.DataFrame(y_train)\n",
        "y_train.columns = ['y']\n",
        "y_test = pd.DataFrame(y_test)\n",
        "y_test.columns = ['y']\n",
        "\n",
        "print(X_train.shape)\n",
        "print(y_train.shape)"
      ],
      "execution_count": 0,
      "outputs": [
        {
          "output_type": "stream",
          "text": [
            "(160, 3)\n",
            "(160, 1)\n"
          ],
          "name": "stdout"
        }
      ]
    },
    {
      "cell_type": "code",
      "metadata": {
        "id": "d2VBUDjCJnbo",
        "colab_type": "code",
        "outputId": "930a962d-ddd7-4f3c-bf2a-9000b9641422",
        "colab": {
          "base_uri": "https://localhost:8080/",
          "height": 52
        }
      },
      "source": [
        "# Dask settings\n",
        "npartitions = 1\n",
        "\n",
        "# create Dask DataFrames for X_train and X_validation\n",
        "X_train_dask_pdf = dask.dataframe.from_pandas(X_train, npartitions=npartitions)\n",
        "X_validation_dask_pdf = dask.dataframe.from_pandas(X_test, npartitions=npartitions)\n",
        "\n",
        "# create Dask cuDF DataFrames for X_train and X_validation\n",
        "X_train_dask_cudf = dask_cudf.from_dask_dataframe(X_train_dask_pdf)\n",
        "X_validation_dask_cudf = dask_cudf.from_dask_dataframe(X_validation_dask_pdf)\n",
        "\n",
        "# create Dask DataFrames for y_train and y_validation\n",
        "y_train_dask_pdf = dask.dataframe.from_pandas(y_train, npartitions=npartitions)\n",
        "y_validation_dask_pdf = dask.dataframe.from_pandas(y_test, npartitions=npartitions)\n",
        "\n",
        "# create Dask cuDF DataFrames for y_train and y_validation\n",
        "y_train_dask_cudf = dask_cudf.from_dask_dataframe(y_train_dask_pdf)\n",
        "y_validation_dask_cudf = dask_cudf.from_dask_dataframe(y_validation_dask_pdf)\n",
        "\n",
        "print(X_train_dask_cudf.shape)\n",
        "print(y_train_dask_cudf.shape)"
      ],
      "execution_count": 0,
      "outputs": [
        {
          "output_type": "stream",
          "text": [
            "(Delayed('int-64deaf78-56e1-478f-81d7-baaaab4f8982'), 3)\n",
            "(Delayed('int-de4d25b9-8bbb-4025-9198-5ab782a45c6f'), 1)\n"
          ],
          "name": "stdout"
        }
      ]
    },
    {
      "cell_type": "code",
      "metadata": {
        "id": "X86qbiVpVV_T",
        "colab_type": "code",
        "outputId": "8ab4ba35-5122-4fc2-a0c1-e9b1a541d5bf",
        "colab": {
          "base_uri": "https://localhost:8080/",
          "height": 52
        }
      },
      "source": [
        "# # Optional: persist training and validation data into memory\n",
        "X_train_dask_cudf = X_train_dask_cudf.persist()\n",
        "X_validation_dask_cudf = X_validation_dask_cudf.persist()\n",
        "y_train_dask_cudf = y_train_dask_cudf.persist()\n",
        "y_validation_dask_cudf = y_validation_dask_cudf.persist()\n",
        "print(X_train_dask_cudf.shape)\n",
        "print(y_train_dask_cudf.shape)"
      ],
      "execution_count": 0,
      "outputs": [
        {
          "output_type": "stream",
          "text": [
            "(Delayed('int-d465e11c-8d74-4f82-acb7-972c58fc1ad2'), 3)\n",
            "(Delayed('int-31be8ee8-cb50-4cab-8c36-be39c74b1e5b'), 1)\n"
          ],
          "name": "stdout"
        }
      ]
    },
    {
      "cell_type": "code",
      "metadata": {
        "id": "e0vKuGOrVbYq",
        "colab_type": "code",
        "colab": {}
      },
      "source": [
        "# %%time\n",
        "\n",
        "# # instantiate params\n",
        "# params = {}\n",
        "\n",
        "# bst = dask_xgboost.train(client, params, X_train_dask_cudf, y_train_dask_cudf, num_boost_round=10)"
      ],
      "execution_count": 0,
      "outputs": []
    },
    {
      "cell_type": "code",
      "metadata": {
        "id": "8kXl9y1rbz3t",
        "colab_type": "code",
        "colab": {}
      },
      "source": [
        "# y_predictions = dask_xgboost.predict(client, bst, X_validation_dask_cudf)\n",
        "# y_predictions = dask.dataframe.multi.concat([y_predictions], axis=1)"
      ],
      "execution_count": 0,
      "outputs": []
    },
    {
      "cell_type": "markdown",
      "metadata": {
        "id": "oQNBN_ma3AqQ",
        "colab_type": "text"
      },
      "source": [
        "#### Linear Regression"
      ]
    },
    {
      "cell_type": "code",
      "metadata": {
        "id": "l95OQUOS2eKH",
        "colab_type": "code",
        "colab": {}
      },
      "source": [
        "from math import exp\n",
        "from dask_cuml.linear_model import LinearRegression as cumlOLS_dask"
      ],
      "execution_count": 0,
      "outputs": []
    },
    {
      "cell_type": "code",
      "metadata": {
        "id": "9dvXhYiU2nHY",
        "colab_type": "code",
        "outputId": "198d9ab7-f713-4ed6-c3dd-b75a9f033045",
        "colab": {
          "base_uri": "https://localhost:8080/",
          "height": 203
        }
      },
      "source": [
        "N = 10000\n",
        "\n",
        "house_price = [0.27*exp(-0.27*_) for _ in range(0,N)] \n",
        "house_price = np.array(house_price,dtype=np.float64)\n",
        "# Normalize data to prevent inf loss\n",
        "house_price = pd.Series(house_price/house_price.max(axis=0))\n",
        "\n",
        "house_age = range(0, N) \n",
        "house_age = np.array(house_age,dtype=np.float64)\n",
        "# Normalize data to prevent inf loss\n",
        "house_age = pd.Series(house_age/house_age.max(axis=0))\n",
        "\n",
        "X = pd.concat([house_price, house_age], axis=1)\n",
        "\n",
        "houses_sold = [0.01*exp(0.015*_) for _ in range(0,N)]\n",
        "houses_sold = np.array(houses_sold,dtype=np.float64)\n",
        "# Normalize data to prevent inf loss\n",
        "y = pd.Series(houses_sold/houses_sold.max(axis=0))\n",
        "\n",
        "df = pd.concat([house_price, house_age, y], axis=1)\n",
        "df.columns = ['house_price', 'house_age', 'houses_sold']\n",
        "df.head()"
      ],
      "execution_count": 0,
      "outputs": [
        {
          "output_type": "execute_result",
          "data": {
            "text/html": [
              "<div>\n",
              "<style scoped>\n",
              "    .dataframe tbody tr th:only-of-type {\n",
              "        vertical-align: middle;\n",
              "    }\n",
              "\n",
              "    .dataframe tbody tr th {\n",
              "        vertical-align: top;\n",
              "    }\n",
              "\n",
              "    .dataframe thead th {\n",
              "        text-align: right;\n",
              "    }\n",
              "</style>\n",
              "<table border=\"1\" class=\"dataframe\">\n",
              "  <thead>\n",
              "    <tr style=\"text-align: right;\">\n",
              "      <th></th>\n",
              "      <th>house_price</th>\n",
              "      <th>house_age</th>\n",
              "      <th>houses_sold</th>\n",
              "    </tr>\n",
              "  </thead>\n",
              "  <tbody>\n",
              "    <tr>\n",
              "      <th>0</th>\n",
              "      <td>1.000000</td>\n",
              "      <td>0.0000</td>\n",
              "      <td>7.283534e-66</td>\n",
              "    </tr>\n",
              "    <tr>\n",
              "      <th>1</th>\n",
              "      <td>0.763379</td>\n",
              "      <td>0.0001</td>\n",
              "      <td>7.393610e-66</td>\n",
              "    </tr>\n",
              "    <tr>\n",
              "      <th>2</th>\n",
              "      <td>0.582748</td>\n",
              "      <td>0.0002</td>\n",
              "      <td>7.505350e-66</td>\n",
              "    </tr>\n",
              "    <tr>\n",
              "      <th>3</th>\n",
              "      <td>0.444858</td>\n",
              "      <td>0.0003</td>\n",
              "      <td>7.618779e-66</td>\n",
              "    </tr>\n",
              "    <tr>\n",
              "      <th>4</th>\n",
              "      <td>0.339596</td>\n",
              "      <td>0.0004</td>\n",
              "      <td>7.733922e-66</td>\n",
              "    </tr>\n",
              "  </tbody>\n",
              "</table>\n",
              "</div>"
            ],
            "text/plain": [
              "   house_price  house_age   houses_sold\n",
              "0     1.000000     0.0000  7.283534e-66\n",
              "1     0.763379     0.0001  7.393610e-66\n",
              "2     0.582748     0.0002  7.505350e-66\n",
              "3     0.444858     0.0003  7.618779e-66\n",
              "4     0.339596     0.0004  7.733922e-66"
            ]
          },
          "metadata": {
            "tags": []
          },
          "execution_count": 66
        }
      ]
    },
    {
      "cell_type": "code",
      "metadata": {
        "id": "YDiAD8jO1erW",
        "colab_type": "code",
        "colab": {}
      },
      "source": [
        "# X_cudf = cudf.DataFrame.from_pandas(X)\n",
        "# y_cudf = np.array(y.as_matrix())\n",
        "# y_cudf = y_cudf[0]\n",
        "# y_cudf = cudf.Series(y_cudf)\n",
        "\n",
        "# workers = client.has_what().keys()\n",
        "\n",
        "# X_df = dask_cudf.from_cudf(X_cudf, npartitions=len(workers)).persist()\n",
        "# y_df = dask_cudf.from_cudf(y_cudf, npartitions=len(workers)).persist()"
      ],
      "execution_count": 0,
      "outputs": []
    },
    {
      "cell_type": "code",
      "metadata": {
        "id": "jfTRspbhuTQD",
        "colab_type": "code",
        "colab": {}
      },
      "source": [
        "# lr = cumlOLS_dask()\n",
        "\n",
        "# lr.fit(X_df, y_df)\n",
        "\n",
        "# ret = lr.predict(X_df)\n",
        "\n",
        "# error_cuml = mean_squared_error(y, ret.compute().to_array())"
      ],
      "execution_count": 0,
      "outputs": []
    }
  ]
}