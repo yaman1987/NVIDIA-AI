{
  "nbformat": 4,
  "nbformat_minor": 0,
  "metadata": {
    "colab": {
      "name": "RAPIDS: cuGraph.ipynb",
      "version": "0.3.2",
      "provenance": [],
      "collapsed_sections": []
    },
    "kernelspec": {
      "name": "python3",
      "display_name": "Python 3"
    },
    "accelerator": "GPU"
  },
  "cells": [
    {
      "cell_type": "markdown",
      "metadata": {
        "id": "5f9kW8B1PfBy",
        "colab_type": "text"
      },
      "source": [
        "# RAPIDS: cuGraph Tutorial"
      ]
    },
    {
      "cell_type": "markdown",
      "metadata": {
        "id": "q3kXpzgEKEpG",
        "colab_type": "text"
      },
      "source": [
        "In this tutorial, I will be going through an example using both cuGraph and Networkx to run a Pagerank implementation. Pagerank is used to quantify the importance of a vertex based on the ralative importance of it's neighbours. Thanks to Pagerank the connectivity information of a graph can be ranked assigned a certain importance to each of the different vertex.\n",
        "\n",
        "As additional resources:\n",
        "- https://github.com/rapidsai/notebooks/tree/branch-0.9/cugraph\n",
        "- https://networkx.github.io/documentation/stable/tutorial.html\n",
        "- https://pyvis.readthedocs.io/en/latest/tutorial.html\n"
      ]
    },
    {
      "cell_type": "markdown",
      "metadata": {
        "id": "DO12OCpHPT-u",
        "colab_type": "text"
      },
      "source": [
        "### Preprocessing"
      ]
    },
    {
      "cell_type": "code",
      "metadata": {
        "id": "JdPON_4KIP1u",
        "colab_type": "code",
        "outputId": "75d67a7f-6d60-4485-f507-4c94cff47822",
        "colab": {
          "base_uri": "https://localhost:8080/",
          "height": 316
        }
      },
      "source": [
        "!nvidia-smi"
      ],
      "execution_count": 2,
      "outputs": [
        {
          "output_type": "stream",
          "text": [
            "Sat Jul 20 20:12:02 2019       \n",
            "+-----------------------------------------------------------------------------+\n",
            "| NVIDIA-SMI 418.67       Driver Version: 410.79       CUDA Version: 10.0     |\n",
            "|-------------------------------+----------------------+----------------------+\n",
            "| GPU  Name        Persistence-M| Bus-Id        Disp.A | Volatile Uncorr. ECC |\n",
            "| Fan  Temp  Perf  Pwr:Usage/Cap|         Memory-Usage | GPU-Util  Compute M. |\n",
            "|===============================+======================+======================|\n",
            "|   0  Tesla T4            Off  | 00000000:00:04.0 Off |                    0 |\n",
            "| N/A   45C    P8    15W /  70W |      0MiB / 15079MiB |      0%      Default |\n",
            "+-------------------------------+----------------------+----------------------+\n",
            "                                                                               \n",
            "+-----------------------------------------------------------------------------+\n",
            "| Processes:                                                       GPU Memory |\n",
            "|  GPU       PID   Type   Process name                             Usage      |\n",
            "|=============================================================================|\n",
            "|  No running processes found                                                 |\n",
            "+-----------------------------------------------------------------------------+\n"
          ],
          "name": "stdout"
        }
      ]
    },
    {
      "cell_type": "code",
      "metadata": {
        "id": "PNfugk1LGkBQ",
        "colab_type": "code",
        "outputId": "c811f1c5-ba12-4ddd-d42a-b1d5aa26c39b",
        "colab": {
          "base_uri": "https://localhost:8080/",
          "height": 1000
        }
      },
      "source": [
        "!wget https://github.com/randerzander/notebooks-extended/raw/master/utils/rapids-colab.sh\n",
        "!chmod +x rapids-colab.sh\n",
        "!./rapids-colab.sh\n",
        "\n",
        "import sys, os\n",
        "sys.path.append('/usr/local/lib/python3.6/site-packages/')\n",
        "os.environ['NUMBAPRO_NVVM'] = '/usr/local/cuda/nvvm/lib64/libnvvm.so'\n",
        "os.environ['NUMBAPRO_LIBDEVICE'] = '/usr/local/cuda/nvvm/libdevice/'"
      ],
      "execution_count": 3,
      "outputs": [
        {
          "output_type": "stream",
          "text": [
            "--2019-07-20 20:12:06--  https://github.com/randerzander/notebooks-extended/raw/master/utils/rapids-colab.sh\n",
            "Resolving github.com (github.com)... 13.229.188.59\n",
            "Connecting to github.com (github.com)|13.229.188.59|:443... connected.\n",
            "HTTP request sent, awaiting response... 302 Found\n",
            "Location: https://raw.githubusercontent.com/randerzander/notebooks-extended/master/utils/rapids-colab.sh [following]\n",
            "--2019-07-20 20:12:06--  https://raw.githubusercontent.com/randerzander/notebooks-extended/master/utils/rapids-colab.sh\n",
            "Resolving raw.githubusercontent.com (raw.githubusercontent.com)... 151.101.0.133, 151.101.64.133, 151.101.128.133, ...\n",
            "Connecting to raw.githubusercontent.com (raw.githubusercontent.com)|151.101.0.133|:443... connected.\n",
            "HTTP request sent, awaiting response... 200 OK\n",
            "Length: 1548 (1.5K) [text/plain]\n",
            "Saving to: ‘rapids-colab.sh’\n",
            "\n",
            "\rrapids-colab.sh       0%[                    ]       0  --.-KB/s               \rrapids-colab.sh     100%[===================>]   1.51K  --.-KB/s    in 0s      \n",
            "\n",
            "2019-07-20 20:12:07 (173 MB/s) - ‘rapids-colab.sh’ saved [1548/1548]\n",
            "\n",
            "--2019-07-20 20:12:14--  https://github.com/rapidsai/notebooks-extended/raw/master/utils/env-check.py\n",
            "Resolving github.com (github.com)... 13.229.188.59\n",
            "Connecting to github.com (github.com)|13.229.188.59|:443... connected.\n",
            "HTTP request sent, awaiting response... 302 Found\n",
            "Location: https://raw.githubusercontent.com/rapidsai/notebooks-extended/master/utils/env-check.py [following]\n",
            "--2019-07-20 20:12:14--  https://raw.githubusercontent.com/rapidsai/notebooks-extended/master/utils/env-check.py\n",
            "Resolving raw.githubusercontent.com (raw.githubusercontent.com)... 151.101.0.133, 151.101.64.133, 151.101.128.133, ...\n",
            "Connecting to raw.githubusercontent.com (raw.githubusercontent.com)|151.101.0.133|:443... connected.\n",
            "HTTP request sent, awaiting response... 200 OK\n",
            "Length: 783 [text/plain]\n",
            "Saving to: ‘env-check.py’\n",
            "\n",
            "env-check.py        100%[===================>]     783  --.-KB/s    in 0s      \n",
            "\n",
            "2019-07-20 20:12:15 (99.1 MB/s) - ‘env-check.py’ saved [783/783]\n",
            "\n",
            "Checking for GPU type:\n",
            "*********************************************\n",
            "Woo! Your instance has the right kind of GPU!\n",
            "*********************************************\n",
            "\n",
            "Removing conflicting packages, will replace with RAPIDS compatible versions\n",
            "Uninstalling xgboost-0.90:\n",
            "  Successfully uninstalled xgboost-0.90\n",
            "Uninstalling dask-1.1.5:\n",
            "  Successfully uninstalled dask-1.1.5\n",
            "Uninstalling distributed-1.25.3:\n",
            "  Successfully uninstalled distributed-1.25.3\n",
            "Installing conda\n",
            "--2019-07-20 20:12:20--  https://repo.continuum.io/miniconda/Miniconda3-4.5.4-Linux-x86_64.sh\n",
            "Resolving repo.continuum.io (repo.continuum.io)... 104.18.201.79, 104.18.200.79, 2606:4700::6812:c84f, ...\n",
            "Connecting to repo.continuum.io (repo.continuum.io)|104.18.201.79|:443... connected.\n",
            "HTTP request sent, awaiting response... 200 OK\n",
            "Length: 58468498 (56M) [application/x-sh]\n",
            "Saving to: ‘Miniconda3-4.5.4-Linux-x86_64.sh’\n",
            "\n",
            "Miniconda3-4.5.4-Li 100%[===================>]  55.76M   301MB/s    in 0.2s    \n",
            "\n",
            "2019-07-20 20:12:20 (301 MB/s) - ‘Miniconda3-4.5.4-Linux-x86_64.sh’ saved [58468498/58468498]\n",
            "\n",
            "PREFIX=/usr/local\n",
            "installing: python-3.6.5-hc3d631a_2 ...\n",
            "Python 3.6.5 :: Anaconda, Inc.\n",
            "installing: ca-certificates-2018.03.07-0 ...\n",
            "installing: conda-env-2.6.0-h36134e3_1 ...\n",
            "installing: libgcc-ng-7.2.0-hdf63c60_3 ...\n",
            "installing: libstdcxx-ng-7.2.0-hdf63c60_3 ...\n",
            "installing: libffi-3.2.1-hd88cf55_4 ...\n",
            "installing: ncurses-6.1-hf484d3e_0 ...\n",
            "installing: openssl-1.0.2o-h20670df_0 ...\n",
            "installing: tk-8.6.7-hc745277_3 ...\n",
            "installing: xz-5.2.4-h14c3975_4 ...\n",
            "installing: yaml-0.1.7-had09818_2 ...\n",
            "installing: zlib-1.2.11-ha838bed_2 ...\n",
            "installing: libedit-3.1.20170329-h6b74fdf_2 ...\n",
            "installing: readline-7.0-ha6073c6_4 ...\n",
            "installing: sqlite-3.23.1-he433501_0 ...\n",
            "installing: asn1crypto-0.24.0-py36_0 ...\n",
            "installing: certifi-2018.4.16-py36_0 ...\n",
            "installing: chardet-3.0.4-py36h0f667ec_1 ...\n",
            "installing: idna-2.6-py36h82fb2a8_1 ...\n",
            "installing: pycosat-0.6.3-py36h0a5515d_0 ...\n",
            "installing: pycparser-2.18-py36hf9f622e_1 ...\n",
            "installing: pysocks-1.6.8-py36_0 ...\n",
            "installing: ruamel_yaml-0.15.37-py36h14c3975_2 ...\n",
            "installing: six-1.11.0-py36h372c433_1 ...\n",
            "installing: cffi-1.11.5-py36h9745a5d_0 ...\n",
            "installing: setuptools-39.2.0-py36_0 ...\n",
            "installing: cryptography-2.2.2-py36h14c3975_0 ...\n",
            "installing: wheel-0.31.1-py36_0 ...\n",
            "installing: pip-10.0.1-py36_0 ...\n",
            "installing: pyopenssl-18.0.0-py36_0 ...\n",
            "installing: urllib3-1.22-py36hbe7ace6_0 ...\n",
            "installing: requests-2.18.4-py36he2e5f8d_1 ...\n",
            "installing: conda-4.5.4-py36_0 ...\n",
            "installation finished.\n",
            "WARNING:\n",
            "    You currently have a PYTHONPATH environment variable set. This may cause\n",
            "    unexpected behavior when running the Python interpreter in Miniconda3.\n",
            "    For best results, please verify that your PYTHONPATH only points to\n",
            "    directories of packages that are compatible with the Python interpreter\n",
            "    in Miniconda3: /usr/local\n",
            "Installing RAPIDS packages\n",
            "Please standby, this will take a few minutes...\n",
            "\n",
            "\n",
            "==> WARNING: A newer version of conda exists. <==\n",
            "  current version: 4.5.4\n",
            "  latest version: 4.7.10\n",
            "\n",
            "Please update conda by running\n",
            "\n",
            "    $ conda update -n base conda\n",
            "\n",
            "\n",
            "dask-2.1.0           |    4 KB | : 100% 1.0/1 [00:00<00:00, 26.67it/s]\n",
            "libffi-3.2.1         |   46 KB | : 100% 1.0/1 [00:00<00:00, 22.04it/s]\n",
            "cugraph-0.9.0a1      |  1.2 MB | : 100% 1.0/1 [00:03<00:00,  3.68s/it]               \n",
            "arrow-cpp-0.12.1     |  6.9 MB | : 100% 1.0/1 [00:01<00:00,  1.46s/it]               \n",
            "joblib-0.13.2        |  180 KB | : 100% 1.0/1 [00:00<00:00,  8.82it/s]\n",
            "asn1crypto-0.24.0    |  154 KB | : 100% 1.0/1 [00:00<00:00, 12.91it/s]\n",
            "zlib-1.2.11          |  105 KB | : 100% 1.0/1 [00:00<00:00, 20.02it/s]\n",
            "google-auth-oauthlib |   18 KB | : 100% 1.0/1 [00:00<00:00, 28.75it/s]\n",
            "py-xgboost-0.90.rapi |   87 KB | : 100% 1.0/1 [00:00<00:00,  1.65it/s]                \n",
            "dask-cudf-0.9.0a1    |   66 KB | : 100% 1.0/1 [00:00<00:00,  1.64it/s]              \n",
            "rsa-3.4.2            |   31 KB | : 100% 1.0/1 [00:00<00:00, 23.32it/s]\n",
            "locket-0.2.0         |    6 KB | : 100% 1.0/1 [00:00<00:00, 32.83it/s]\n",
            "requests-oauthlib-1. |   19 KB | : 100% 1.0/1 [00:00<00:00, 31.43it/s]\n",
            "oauthlib-3.0.1       |   82 KB | : 100% 1.0/1 [00:00<00:00, 11.66it/s]\n",
            "bokeh-1.2.0          |  3.8 MB | : 100% 1.0/1 [00:01<00:00,  1.42s/it]               \n",
            "cytoolz-0.10.0       |  429 KB | : 100% 1.0/1 [00:00<00:00,  7.32it/s]             \n",
            "partd-1.0.0          |   16 KB | : 100% 1.0/1 [00:00<00:00, 29.02it/s]\n",
            "pyopenssl-19.0.0     |   81 KB | : 100% 1.0/1 [00:00<00:00, 20.86it/s]\n",
            "requests-2.22.0      |   84 KB | : 100% 1.0/1 [00:00<00:00, 18.69it/s]\n",
            "thrift-cpp-0.12.0    |  2.4 MB | : 100% 1.0/1 [00:00<00:00,  1.97it/s]               \n",
            "cudf-0.9.0a          |  3.8 MB | : 100% 1.0/1 [00:01<00:00,  1.78s/it]               \n",
            "openssl-1.1.1c       |  2.1 MB | : 100% 1.0/1 [00:00<00:00,  2.30it/s]               \n",
            "pyarrow-0.12.1       |  2.2 MB | : 100% 1.0/1 [00:00<00:00,  1.46it/s]               \n",
            "libcblas-3.8.0       |    6 KB | : 100% 1.0/1 [00:00<00:00, 26.33it/s]\n",
            "setuptools-41.0.1    |  612 KB | : 100% 1.0/1 [00:00<00:00,  4.64it/s]               \n",
            "llvmlite-0.29.0      | 19.9 MB | : 100% 1.0/1 [00:03<00:00,  3.78s/it]               \n",
            "olefile-0.46         |   31 KB | : 100% 1.0/1 [00:00<00:00, 33.06it/s]\n",
            "parquet-cpp-1.5.1    |    3 KB | : 100% 1.0/1 [00:00<00:00, 43.17it/s]\n",
            "scipy-1.3.0          | 18.8 MB | : 100% 1.0/1 [00:03<00:00,  3.86s/it]               \n",
            "distributed-2.1.0    |  363 KB | : 100% 1.0/1 [00:00<00:00,  5.26it/s]               \n",
            "pyasn1-modules-0.2.5 |   38 KB | : 100% 1.0/1 [00:00<00:00, 19.82it/s]\n",
            "libtiff-4.0.10       |  587 KB | : 100% 1.0/1 [00:00<00:00,  6.47it/s]               \n",
            "blinker-1.4          |   13 KB | : 100% 1.0/1 [00:00<00:00, 31.98it/s]\n",
            "pyyaml-5.1.1         |  184 KB | : 100% 1.0/1 [00:00<00:00, 13.45it/s]\n",
            "libnvstrings-0.9.0a1 | 16.7 MB | : 100% 1.0/1 [00:08<00:00,  8.97s/it]               \n",
            "cffi-1.12.3          |  218 KB | : 100% 1.0/1 [00:00<00:00, 12.17it/s]\n",
            "dask-cuda-0.9.0a     |  900 KB | : 100% 1.0/1 [00:01<00:00,  1.64s/it]               \n",
            "boost-1.68.0         |  325 KB | : 100% 1.0/1 [00:00<00:00,  6.48it/s]               \n",
            "six-1.12.0           |   22 KB | : 100% 1.0/1 [00:00<00:00, 34.74it/s]\n",
            "sortedcontainers-2.1 |   25 KB | : 100% 1.0/1 [00:00<00:00, 31.20it/s]\n",
            "liblapack-3.8.0      |    6 KB | : 100% 1.0/1 [00:00<00:00, 33.65it/s]\n",
            "pillow-6.0.0         |  615 KB | : 100% 1.0/1 [00:00<00:00,  5.19it/s]               \n",
            "libgfortran-ng-7.3.0 |  1.3 MB | : 100% 1.0/1 [00:00<00:00,  3.53it/s]               \n",
            "chardet-3.0.4        |  190 KB | : 100% 1.0/1 [00:00<00:00, 11.25it/s]\n",
            "freetype-2.10.0      |  885 KB | : 100% 1.0/1 [00:00<00:00,  5.03it/s]               \n",
            "pytz-2019.1          |  227 KB | : 100% 1.0/1 [00:00<00:00,  4.32it/s]               \n",
            "cloudpickle-1.2.1    |   22 KB | : 100% 1.0/1 [00:00<00:00, 32.47it/s]\n",
            "zict-1.0.0           |   10 KB | : 100% 1.0/1 [00:00<00:00, 37.19it/s]\n",
            "openblas-0.3.6       |  8.2 MB | : 100% 1.0/1 [00:02<00:00,  2.02s/it]               \n",
            "nccl-2.4.6.1         | 66.6 MB | : 100% 1.0/1 [00:15<00:00, 15.86s/it]               \n",
            "ca-certificates-2019 |  145 KB | : 100% 1.0/1 [00:00<00:00, 16.70it/s]\n",
            "libpng-1.6.37        |  343 KB | : 100% 1.0/1 [00:00<00:00, 10.48it/s]\n",
            "libprotobuf-3.6.1    |  4.0 MB | : 100% 1.0/1 [00:00<00:00,  1.03it/s]              \n",
            "msgpack-python-0.6.1 |   89 KB | : 100% 1.0/1 [00:00<00:00, 20.09it/s]\n",
            "numpy-1.16.4         |  4.3 MB | : 100% 1.0/1 [00:01<00:00,  1.13s/it]               \n",
            "icu-58.2             | 22.6 MB | : 100% 1.0/1 [00:04<00:00,  4.02s/it]               \n",
            "readline-8.0         |  441 KB | : 100% 1.0/1 [00:00<00:00,  7.76it/s]               \n",
            "python-dateutil-2.8. |  219 KB | : 100% 1.0/1 [00:00<00:00,  8.40it/s]\n",
            "scikit-learn-0.21.2  |  6.7 MB | : 100% 1.0/1 [00:01<00:00,  1.63s/it]              \n",
            "rmm-0.9.0a1          |   14 KB | : 100% 1.0/1 [00:01<00:00,  1.29s/it] \n",
            "_libgcc_mutex-0.1    |    3 KB | : 100% 1.0/1 [00:00<00:00, 55.53it/s]\n",
            "libxgboost-0.90.rapi | 33.2 MB | : 100% 1.0/1 [00:12<00:00, 12.61s/it]              \n",
            "toolz-0.10.0         |   46 KB | : 100% 1.0/1 [00:00<00:00, 19.40it/s]\n",
            "tornado-6.0.3        |  636 KB | : 100% 1.0/1 [00:00<00:00,  4.04it/s]               \n",
            "bzip2-1.0.8          |  396 KB | : 100% 1.0/1 [00:00<00:00,  8.58it/s]\n",
            "ncurses-6.1          |  1.3 MB | : 100% 1.0/1 [00:00<00:00,  1.02it/s]               \n",
            "pyparsing-2.4.0      |   55 KB | : 100% 1.0/1 [00:00<00:00, 24.33it/s]\n",
            "python-3.6.7         | 34.6 MB | : 100% 1.0/1 [00:06<00:00,  6.13s/it]               \n",
            "boost-cpp-1.68.0     | 20.5 MB | : 100% 1.0/1 [00:09<00:00,  9.27s/it]               \n",
            "cuml-0.9.0a1         |  4.6 MB | : 100% 1.0/1 [00:03<00:00,  3.72s/it]               \n",
            "yaml-0.1.7           |   78 KB | : 100% 1.0/1 [00:00<00:00, 23.35it/s]\n",
            "packaging-19.0       |   23 KB | : 100% 1.0/1 [00:00<00:00, 29.84it/s]\n",
            "psutil-5.6.3         |  322 KB | : 100% 1.0/1 [00:00<00:00,  9.16it/s]\n",
            "idna-2.8             |  132 KB | : 100% 1.0/1 [00:00<00:00, 17.02it/s]\n",
            "xz-5.2.4             |  366 KB | : 100% 1.0/1 [00:00<00:00,  8.84it/s]               \n",
            "heapdict-1.0.0       |    7 KB | : 100% 1.0/1 [00:00<00:00, 37.09it/s]\n",
            "jinja2-2.10.1        |   91 KB | : 100% 1.0/1 [00:00<00:00, 18.93it/s]\n",
            "jpeg-9c              |  251 KB | : 100% 1.0/1 [00:00<00:00, 13.01it/s]\n",
            "dask-core-2.1.0      |  573 KB | : 100% 1.0/1 [00:00<00:00,  4.84it/s]               \n",
            "fsspec-0.3.3         |   38 KB | : 100% 1.0/1 [00:00<00:00, 26.28it/s]\n",
            "tk-8.6.9             |  3.2 MB | : 100% 1.0/1 [00:00<00:00,  1.40it/s]               \n",
            "cudatoolkit-10.0.130 | 380.0 MB | : 100% 1.0/1 [00:57<00:00, 57.42s/it]                \n",
            "libblas-3.8.0        |    6 KB | : 100% 1.0/1 [00:00<00:00, 26.33it/s]\n",
            "xgboost-0.90.rapidsd |   12 KB | : 100% 1.0/1 [00:02<00:00,  2.15s/it] \n",
            "libcuml-0.9.0a1      | 27.6 MB | : 100% 1.0/1 [00:11<00:00, 11.47s/it]               \n",
            "dask-cuml-0.9.0a     |   30 KB | : 100% 1.0/1 [00:01<00:00,  1.55s/it]               \n",
            "pip-19.1.1           |  1.8 MB | : 100% 1.0/1 [00:00<00:00,  1.66it/s]               \n",
            "libgcc-ng-9.1.0      |  8.1 MB | : 100% 1.0/1 [00:01<00:00,  1.40s/it]              \n",
            "tblib-1.4.0          |   12 KB | : 100% 1.0/1 [00:00<00:00, 27.36it/s]\n",
            "libcumlmg-0.0.0.dev0 |  953 KB | : 100% 1.0/1 [00:01<00:00,  1.85s/it]               \n",
            "google-auth-1.6.3    |   45 KB | : 100% 1.0/1 [00:00<00:00, 17.36it/s]\n",
            "lz4-c-1.8.3          |  187 KB | : 100% 1.0/1 [00:00<00:00, 12.84it/s]\n",
            "libcugraph-0.9.0a1   | 10.5 MB | : 100% 1.0/1 [00:03<00:00,  3.59s/it]               \n",
            "libcudf-0.9.0a       | 31.3 MB | : 100% 1.0/1 [00:10<00:00, 10.94s/it]               \n",
            "certifi-2019.6.16    |  149 KB | : 100% 1.0/1 [00:00<00:00, 17.85it/s]\n",
            "zstd-1.4.0           |  928 KB | : 100% 1.0/1 [00:00<00:00,  4.30it/s]               \n",
            "libopenblas-0.3.6    |  7.7 MB | : 100% 1.0/1 [00:01<00:00,  1.53s/it]              \n",
            "pandas-0.25.0        | 11.4 MB | : 100% 1.0/1 [00:02<00:00,  2.87s/it]               \n",
            "markupsafe-1.1.1     |   26 KB | : 100% 1.0/1 [00:00<00:00, 30.37it/s]\n",
            "pyasn1-0.4.5         |   49 KB | : 100% 1.0/1 [00:00<00:00, 20.27it/s]\n",
            "numba-0.45.0         |  3.1 MB | : 100% 1.0/1 [00:02<00:00,  2.32s/it]               \n",
            "wheel-0.33.4         |   34 KB | : 100% 1.0/1 [00:00<00:00, 26.68it/s]\n",
            "libstdcxx-ng-9.1.0   |  4.0 MB | : 100% 1.0/1 [00:00<00:00,  1.41it/s]               \n",
            "urllib3-1.25.3       |  187 KB | : 100% 1.0/1 [00:00<00:00,  9.75it/s]\n",
            "pyjwt-1.7.1          |   17 KB | : 100% 1.0/1 [00:00<00:00, 18.84it/s]\n",
            "pynvml-8.0.1         |   28 KB | : 100% 1.0/1 [00:00<00:00, 28.57it/s]\n",
            "decorator-4.4.0      |   11 KB | : 100% 1.0/1 [00:00<00:00, 32.77it/s]\n",
            "click-7.0            |   61 KB | : 100% 1.0/1 [00:00<00:00, 21.78it/s]\n",
            "gcsfs-0.3.0          |   19 KB | : 100% 1.0/1 [00:00<00:00, 31.68it/s]\n",
            "librmm-0.9.0a1       |   44 KB | : 100% 1.0/1 [00:02<00:00,  2.35s/it]               \n",
            "cachetools-2.1.0     |   10 KB | : 100% 1.0/1 [00:00<00:00, 29.80it/s]\n",
            "pycparser-2.19       |  173 KB | : 100% 1.0/1 [00:00<00:00, 13.89it/s]\n",
            "cryptography-2.7     |  607 KB | : 100% 1.0/1 [00:00<00:00,  4.22it/s]               \n",
            "sqlite-3.29.0        |  2.0 MB | : 100% 1.0/1 [00:00<00:00,  2.82it/s]               \n",
            "cython-0.29.12       |  2.2 MB | : 100% 1.0/1 [00:00<00:00,  1.68it/s]               \n",
            "pysocks-1.7.0        |   26 KB | : 100% 1.0/1 [00:00<00:00, 34.08it/s]\n",
            "nvstrings-0.9.0a1    |  122 KB | : 100% 1.0/1 [00:00<00:00,  1.24it/s]               \n",
            "Copying shared object files to /usr/lib\n",
            "\n",
            "*********************************************\n",
            "Your Google Colab instance is RAPIDS ready!\n",
            "*********************************************\n"
          ],
          "name": "stdout"
        }
      ]
    },
    {
      "cell_type": "code",
      "metadata": {
        "id": "a1cBEV1EGzn-",
        "colab_type": "code",
        "colab": {
          "base_uri": "https://localhost:8080/",
          "height": 211
        },
        "outputId": "1e78b762-c4cd-4a65-9d49-5e95ef04cbf0"
      },
      "source": [
        "# The notebook compares cuGraph to NetworkX,  \n",
        "# therefore there some additional non-RAPIDS python libraries need to be installed. \n",
        "# Please run this cell if you need the additional libraries\n",
        "!pip install networkx\n",
        "!pip install scipy"
      ],
      "execution_count": 4,
      "outputs": [
        {
          "output_type": "stream",
          "text": [
            "Collecting networkx\n",
            "\u001b[?25l  Downloading https://files.pythonhosted.org/packages/85/08/f20aef11d4c343b557e5de6b9548761811eb16e438cee3d32b1c66c8566b/networkx-2.3.zip (1.7MB)\n",
            "\u001b[K     |████████████████████████████████| 1.8MB 49.5MB/s \n",
            "\u001b[?25hRequirement already satisfied: decorator>=4.3.0 in /usr/local/lib/python3.6/site-packages (from networkx) (4.4.0)\n",
            "Building wheels for collected packages: networkx\n",
            "  Building wheel for networkx (setup.py) ... \u001b[?25l\u001b[?25hdone\n",
            "  Stored in directory: /root/.cache/pip/wheels/de/63/64/3699be2a9d0ccdb37c7f16329acf3863fd76eda58c39c737af\n",
            "Successfully built networkx\n",
            "Installing collected packages: networkx\n",
            "Successfully installed networkx-2.3\n",
            "Requirement already satisfied: scipy in /usr/local/lib/python3.6/site-packages (1.3.0)\n"
          ],
          "name": "stdout"
        }
      ]
    },
    {
      "cell_type": "code",
      "metadata": {
        "id": "9c1e1UrGOOVW",
        "colab_type": "code",
        "colab": {
          "base_uri": "https://localhost:8080/",
          "height": 811
        },
        "outputId": "8b5dd1ae-6646-4b1e-fb23-26b93ed9b2ef"
      },
      "source": [
        "!pip install pyvis"
      ],
      "execution_count": 58,
      "outputs": [
        {
          "output_type": "stream",
          "text": [
            "Collecting pyvis\n",
            "  Downloading https://files.pythonhosted.org/packages/e7/47/1ec436aac6ff24dabe61ff310cc05aef8333340cd74d501fefff89642db4/pyvis-0.1.6.0-py3-none-any.whl\n",
            "Collecting ipython==5.3.0 (from pyvis)\n",
            "\u001b[?25l  Downloading https://files.pythonhosted.org/packages/a9/aa/cfb6fa600dd4b57d80c4da55e64213d10ff5536c4c859932407245a1a481/ipython-5.3.0-py3-none-any.whl (750kB)\n",
            "\r\u001b[K     |▍                               | 10kB 16.7MB/s eta 0:00:01\r\u001b[K     |▉                               | 20kB 23.3MB/s eta 0:00:01\r\u001b[K     |█▎                              | 30kB 28.8MB/s eta 0:00:01\r\u001b[K     |█▊                              | 40kB 32.9MB/s eta 0:00:01\r\u001b[K     |██▏                             | 51kB 27.7MB/s eta 0:00:01\r\u001b[K     |██▋                             | 61kB 30.6MB/s eta 0:00:01\r\u001b[K     |███                             | 71kB 32.4MB/s eta 0:00:01\r\u001b[K     |███▌                            | 81kB 24.0MB/s eta 0:00:01\r\u001b[K     |████                            | 92kB 25.6MB/s eta 0:00:01\r\u001b[K     |████▍                           | 102kB 27.0MB/s eta 0:00:01\r\u001b[K     |████▉                           | 112kB 27.0MB/s eta 0:00:01\r\u001b[K     |█████▎                          | 122kB 27.0MB/s eta 0:00:01\r\u001b[K     |█████▊                          | 133kB 27.0MB/s eta 0:00:01\r\u001b[K     |██████▏                         | 143kB 27.0MB/s eta 0:00:01\r\u001b[K     |██████▌                         | 153kB 27.0MB/s eta 0:00:01\r\u001b[K     |███████                         | 163kB 27.0MB/s eta 0:00:01\r\u001b[K     |███████▍                        | 174kB 27.0MB/s eta 0:00:01\r\u001b[K     |███████▉                        | 184kB 27.0MB/s eta 0:00:01\r\u001b[K     |████████▎                       | 194kB 27.0MB/s eta 0:00:01\r\u001b[K     |████████▊                       | 204kB 27.0MB/s eta 0:00:01\r\u001b[K     |█████████▏                      | 215kB 27.0MB/s eta 0:00:01\r\u001b[K     |█████████▋                      | 225kB 27.0MB/s eta 0:00:01\r\u001b[K     |██████████                      | 235kB 27.0MB/s eta 0:00:01\r\u001b[K     |██████████▌                     | 245kB 27.0MB/s eta 0:00:01\r\u001b[K     |███████████                     | 256kB 27.0MB/s eta 0:00:01\r\u001b[K     |███████████▍                    | 266kB 27.0MB/s eta 0:00:01\r\u001b[K     |███████████▉                    | 276kB 27.0MB/s eta 0:00:01\r\u001b[K     |████████████▎                   | 286kB 27.0MB/s eta 0:00:01\r\u001b[K     |████████████▋                   | 296kB 27.0MB/s eta 0:00:01\r\u001b[K     |█████████████                   | 307kB 27.0MB/s eta 0:00:01\r\u001b[K     |█████████████▌                  | 317kB 27.0MB/s eta 0:00:01\r\u001b[K     |██████████████                  | 327kB 27.0MB/s eta 0:00:01\r\u001b[K     |██████████████▍                 | 337kB 27.0MB/s eta 0:00:01\r\u001b[K     |██████████████▉                 | 348kB 27.0MB/s eta 0:00:01\r\u001b[K     |███████████████▎                | 358kB 27.0MB/s eta 0:00:01\r\u001b[K     |███████████████▊                | 368kB 27.0MB/s eta 0:00:01\r\u001b[K     |████████████████▏               | 378kB 27.0MB/s eta 0:00:01\r\u001b[K     |████████████████▋               | 389kB 27.0MB/s eta 0:00:01\r\u001b[K     |█████████████████               | 399kB 27.0MB/s eta 0:00:01\r\u001b[K     |█████████████████▌              | 409kB 27.0MB/s eta 0:00:01\r\u001b[K     |██████████████████              | 419kB 27.0MB/s eta 0:00:01\r\u001b[K     |██████████████████▍             | 430kB 27.0MB/s eta 0:00:01\r\u001b[K     |██████████████████▊             | 440kB 27.0MB/s eta 0:00:01\r\u001b[K     |███████████████████▏            | 450kB 27.0MB/s eta 0:00:01\r\u001b[K     |███████████████████▋            | 460kB 27.0MB/s eta 0:00:01\r\u001b[K     |████████████████████            | 471kB 27.0MB/s eta 0:00:01\r\u001b[K     |████████████████████▌           | 481kB 27.0MB/s eta 0:00:01\r\u001b[K     |█████████████████████           | 491kB 27.0MB/s eta 0:00:01\r\u001b[K     |█████████████████████▍          | 501kB 27.0MB/s eta 0:00:01\r\u001b[K     |█████████████████████▉          | 512kB 27.0MB/s eta 0:00:01\r\u001b[K     |██████████████████████▎         | 522kB 27.0MB/s eta 0:00:01\r\u001b[K     |██████████████████████▊         | 532kB 27.0MB/s eta 0:00:01\r\u001b[K     |███████████████████████▏        | 542kB 27.0MB/s eta 0:00:01\r\u001b[K     |███████████████████████▋        | 552kB 27.0MB/s eta 0:00:01\r\u001b[K     |████████████████████████        | 563kB 27.0MB/s eta 0:00:01\r\u001b[K     |████████████████████████▌       | 573kB 27.0MB/s eta 0:00:01\r\u001b[K     |████████████████████████▉       | 583kB 27.0MB/s eta 0:00:01\r\u001b[K     |█████████████████████████▎      | 593kB 27.0MB/s eta 0:00:01\r\u001b[K     |█████████████████████████▊      | 604kB 27.0MB/s eta 0:00:01\r\u001b[K     |██████████████████████████▏     | 614kB 27.0MB/s eta 0:00:01\r\u001b[K     |██████████████████████████▋     | 624kB 27.0MB/s eta 0:00:01\r\u001b[K     |███████████████████████████     | 634kB 27.0MB/s eta 0:00:01\r\u001b[K     |███████████████████████████▌    | 645kB 27.0MB/s eta 0:00:01\r\u001b[K     |████████████████████████████    | 655kB 27.0MB/s eta 0:00:01\r\u001b[K     |████████████████████████████▍   | 665kB 27.0MB/s eta 0:00:01\r\u001b[K     |████████████████████████████▉   | 675kB 27.0MB/s eta 0:00:01\r\u001b[K     |█████████████████████████████▎  | 686kB 27.0MB/s eta 0:00:01\r\u001b[K     |█████████████████████████████▊  | 696kB 27.0MB/s eta 0:00:01\r\u001b[K     |██████████████████████████████▏ | 706kB 27.0MB/s eta 0:00:01\r\u001b[K     |██████████████████████████████▋ | 716kB 27.0MB/s eta 0:00:01\r\u001b[K     |███████████████████████████████ | 727kB 27.0MB/s eta 0:00:01\r\u001b[K     |███████████████████████████████▍| 737kB 27.0MB/s eta 0:00:01\r\u001b[K     |███████████████████████████████▉| 747kB 27.0MB/s eta 0:00:01\r\u001b[K     |████████████████████████████████| 757kB 27.0MB/s \n",
            "\u001b[?25hRequirement already satisfied: jinja2>=2.9.6 in /usr/local/lib/python3.6/site-packages (from pyvis) (2.10.1)\n",
            "Requirement already satisfied: networkx>=1.11 in /usr/local/lib/python3.6/site-packages (from pyvis) (2.3)\n",
            "Requirement already satisfied: decorator in /usr/local/lib/python3.6/site-packages (from ipython==5.3.0->pyvis) (4.4.0)\n",
            "Requirement already satisfied: setuptools>=18.5 in /usr/local/lib/python3.6/site-packages (from ipython==5.3.0->pyvis) (41.0.1)\n",
            "Collecting pexpect; sys_platform != \"win32\" (from ipython==5.3.0->pyvis)\n",
            "\u001b[?25l  Downloading https://files.pythonhosted.org/packages/0e/3e/377007e3f36ec42f1b84ec322ee12141a9e10d808312e5738f52f80a232c/pexpect-4.7.0-py2.py3-none-any.whl (58kB)\n",
            "\u001b[K     |████████████████████████████████| 61kB 27.0MB/s \n",
            "\u001b[?25hCollecting pickleshare (from ipython==5.3.0->pyvis)\n",
            "  Downloading https://files.pythonhosted.org/packages/9a/41/220f49aaea88bc6fa6cba8d05ecf24676326156c23b991e80b3f2fc24c77/pickleshare-0.7.5-py2.py3-none-any.whl\n",
            "Collecting pygments (from ipython==5.3.0->pyvis)\n",
            "\u001b[?25l  Downloading https://files.pythonhosted.org/packages/5c/73/1dfa428150e3ccb0fa3e68db406e5be48698f2a979ccbcec795f28f44048/Pygments-2.4.2-py2.py3-none-any.whl (883kB)\n",
            "\u001b[K     |████████████████████████████████| 890kB 45.2MB/s \n",
            "\u001b[?25hCollecting prompt-toolkit<2.0.0,>=1.0.4 (from ipython==5.3.0->pyvis)\n",
            "\u001b[?25l  Downloading https://files.pythonhosted.org/packages/57/a8/a151b6c61718eabe6b4672b6aa760b734989316d62ec1ba4996765e602d4/prompt_toolkit-1.0.16-py3-none-any.whl (244kB)\n",
            "\u001b[K     |████████████████████████████████| 245kB 48.5MB/s \n",
            "\u001b[?25hCollecting simplegeneric>0.8 (from ipython==5.3.0->pyvis)\n",
            "  Downloading https://files.pythonhosted.org/packages/3d/57/4d9c9e3ae9a255cd4e1106bb57e24056d3d0709fc01b2e3e345898e49d5b/simplegeneric-0.8.1.zip\n",
            "Collecting traitlets>=4.2 (from ipython==5.3.0->pyvis)\n",
            "\u001b[?25l  Downloading https://files.pythonhosted.org/packages/93/d6/abcb22de61d78e2fc3959c964628a5771e47e7cc60d53e9342e21ed6cc9a/traitlets-4.3.2-py2.py3-none-any.whl (74kB)\n",
            "\u001b[K     |████████████████████████████████| 81kB 30.5MB/s \n",
            "\u001b[?25hRequirement already satisfied: MarkupSafe>=0.23 in /usr/local/lib/python3.6/site-packages (from jinja2>=2.9.6->pyvis) (1.1.1)\n",
            "Collecting ptyprocess>=0.5 (from pexpect; sys_platform != \"win32\"->ipython==5.3.0->pyvis)\n",
            "  Downloading https://files.pythonhosted.org/packages/d1/29/605c2cc68a9992d18dada28206eeada56ea4bd07a239669da41674648b6f/ptyprocess-0.6.0-py2.py3-none-any.whl\n",
            "Requirement already satisfied: six>=1.9.0 in /usr/local/lib/python3.6/site-packages (from prompt-toolkit<2.0.0,>=1.0.4->ipython==5.3.0->pyvis) (1.12.0)\n",
            "Collecting wcwidth (from prompt-toolkit<2.0.0,>=1.0.4->ipython==5.3.0->pyvis)\n",
            "  Downloading https://files.pythonhosted.org/packages/7e/9f/526a6947247599b084ee5232e4f9190a38f398d7300d866af3ab571a5bfe/wcwidth-0.1.7-py2.py3-none-any.whl\n",
            "Collecting ipython-genutils (from traitlets>=4.2->ipython==5.3.0->pyvis)\n",
            "  Downloading https://files.pythonhosted.org/packages/fa/bc/9bd3b5c2b4774d5f33b2d544f1460be9df7df2fe42f352135381c347c69a/ipython_genutils-0.2.0-py2.py3-none-any.whl\n",
            "Building wheels for collected packages: simplegeneric\n",
            "  Building wheel for simplegeneric (setup.py) ... \u001b[?25l\u001b[?25hdone\n",
            "  Stored in directory: /root/.cache/pip/wheels/a9/28/53/f24776b4c5bcbe91aaf1f1e247bd6fadd17191aa12fac63902\n",
            "Successfully built simplegeneric\n",
            "Installing collected packages: ptyprocess, pexpect, pickleshare, pygments, wcwidth, prompt-toolkit, simplegeneric, ipython-genutils, traitlets, ipython, pyvis\n",
            "Successfully installed ipython-5.3.0 ipython-genutils-0.2.0 pexpect-4.7.0 pickleshare-0.7.5 prompt-toolkit-1.0.16 ptyprocess-0.6.0 pygments-2.4.2 pyvis-0.1.6.0 simplegeneric-0.8.1 traitlets-4.3.2 wcwidth-0.1.7\n"
          ],
          "name": "stdout"
        },
        {
          "output_type": "display_data",
          "data": {
            "application/vnd.colab-display-data+json": {
              "pip_warning": {
                "packages": [
                  "ipython_genutils",
                  "pexpect",
                  "pickleshare",
                  "prompt_toolkit",
                  "simplegeneric",
                  "traitlets",
                  "wcwidth"
                ]
              }
            }
          },
          "metadata": {
            "tags": []
          }
        }
      ]
    },
    {
      "cell_type": "code",
      "metadata": {
        "id": "h53eD0NYHcDn",
        "colab_type": "code",
        "colab": {}
      },
      "source": [
        "# Data available here: https://raw.githubusercontent.com/rapidsai/notebooks/branch-0.8/cugraph/data/karate-data.csv\n",
        "datafile='/content/karate-data.csv'\n",
        "\n",
        "# Read the data, this also created a NetworkX Graph \n",
        "file = open(datafile, 'rb')"
      ],
      "execution_count": 0,
      "outputs": []
    },
    {
      "cell_type": "markdown",
      "metadata": {
        "id": "62YzO1EwPRYO",
        "colab_type": "text"
      },
      "source": [
        "### cuGraph"
      ]
    },
    {
      "cell_type": "code",
      "metadata": {
        "id": "ZzuiA8dVGrr4",
        "colab_type": "code",
        "colab": {}
      },
      "source": [
        "# Import needed libraries\n",
        "import cudf\n",
        "import cugraph\n",
        "import numpy as np\n",
        "from collections import OrderedDict"
      ],
      "execution_count": 0,
      "outputs": []
    },
    {
      "cell_type": "code",
      "metadata": {
        "id": "mcUG007SHjSk",
        "colab_type": "code",
        "colab": {}
      },
      "source": [
        "columns = [\"source\", \"destination\"]\n",
        "\n",
        "dtypes = OrderedDict([\n",
        "        (\"source\", \"int32\"), \n",
        "        (\"destination\", \"int32\")\n",
        "        ])\n",
        "\n",
        "df = cudf.read_csv(datafile, names=columns, delimiter='\\t', dtype=list(dtypes.values()))"
      ],
      "execution_count": 0,
      "outputs": []
    },
    {
      "cell_type": "code",
      "metadata": {
        "id": "ClZpBpkLHmEH",
        "colab_type": "code",
        "colab": {}
      },
      "source": [
        "# create a Graph using the source and destination vertex pairs from the Dataframe \n",
        "G = cugraph.Graph()\n",
        "G.add_edge_list(df[\"source\"], df[\"destination\"])"
      ],
      "execution_count": 0,
      "outputs": []
    },
    {
      "cell_type": "code",
      "metadata": {
        "id": "W-29epXlHqKX",
        "colab_type": "code",
        "colab": {}
      },
      "source": [
        "# Call cugraph.pagerank to get the pagerank scores\n",
        "df_page = cugraph.pagerank(G)"
      ],
      "execution_count": 0,
      "outputs": []
    },
    {
      "cell_type": "code",
      "metadata": {
        "id": "NNDqh5ofHswv",
        "colab_type": "code",
        "colab": {
          "base_uri": "https://localhost:8080/",
          "height": 35
        },
        "outputId": "c06639e0-61b3-4ea1-e2a0-2b3c64c3c0cc"
      },
      "source": [
        "# Find the most important vertex using the scores\n",
        "bestScore = df_page['pagerank'][0]\n",
        "bestVert = df_page['vertex'][0]\n",
        "\n",
        "for i in range(len(df_page)):\n",
        "    if df_page['pagerank'][i] > bestScore:\n",
        "        bestScore = df_page['pagerank'][i]\n",
        "        bestVert = df_page['vertex'][i]\n",
        "        \n",
        "print(\"Best vertex is \" + str(bestVert) + \" with score of \" + str(bestScore))"
      ],
      "execution_count": 25,
      "outputs": [
        {
          "output_type": "stream",
          "text": [
            "Best vertex is 34 with score of 0.10047409\n"
          ],
          "name": "stdout"
        }
      ]
    },
    {
      "cell_type": "code",
      "metadata": {
        "id": "lBSRpw2hH22L",
        "colab_type": "code",
        "colab": {
          "base_uri": "https://localhost:8080/",
          "height": 203
        },
        "outputId": "52740b9b-3ce6-40c5-e694-1d5553c36aa1"
      },
      "source": [
        "sort_pr = df_page.sort_values('pagerank', ascending=False)\n",
        "sort_pr.head().to_pandas()"
      ],
      "execution_count": 29,
      "outputs": [
        {
          "output_type": "execute_result",
          "data": {
            "text/html": [
              "<div>\n",
              "<style scoped>\n",
              "    .dataframe tbody tr th:only-of-type {\n",
              "        vertical-align: middle;\n",
              "    }\n",
              "\n",
              "    .dataframe tbody tr th {\n",
              "        vertical-align: top;\n",
              "    }\n",
              "\n",
              "    .dataframe thead th {\n",
              "        text-align: right;\n",
              "    }\n",
              "</style>\n",
              "<table border=\"1\" class=\"dataframe\">\n",
              "  <thead>\n",
              "    <tr style=\"text-align: right;\">\n",
              "      <th></th>\n",
              "      <th>vertex</th>\n",
              "      <th>pagerank</th>\n",
              "    </tr>\n",
              "  </thead>\n",
              "  <tbody>\n",
              "    <tr>\n",
              "      <th>34</th>\n",
              "      <td>34</td>\n",
              "      <td>0.100474</td>\n",
              "    </tr>\n",
              "    <tr>\n",
              "      <th>1</th>\n",
              "      <td>1</td>\n",
              "      <td>0.096573</td>\n",
              "    </tr>\n",
              "    <tr>\n",
              "      <th>33</th>\n",
              "      <td>33</td>\n",
              "      <td>0.071377</td>\n",
              "    </tr>\n",
              "    <tr>\n",
              "      <th>3</th>\n",
              "      <td>3</td>\n",
              "      <td>0.056828</td>\n",
              "    </tr>\n",
              "    <tr>\n",
              "      <th>2</th>\n",
              "      <td>2</td>\n",
              "      <td>0.052645</td>\n",
              "    </tr>\n",
              "  </tbody>\n",
              "</table>\n",
              "</div>"
            ],
            "text/plain": [
              "    vertex  pagerank\n",
              "34      34  0.100474\n",
              "1        1  0.096573\n",
              "33      33  0.071377\n",
              "3        3  0.056828\n",
              "2        2  0.052645"
            ]
          },
          "metadata": {
            "tags": []
          },
          "execution_count": 29
        }
      ]
    },
    {
      "cell_type": "code",
      "metadata": {
        "id": "kYuWPqhtH6t0",
        "colab_type": "code",
        "colab": {
          "base_uri": "https://localhost:8080/",
          "height": 203
        },
        "outputId": "3fa0feaf-da0e-4903-c3f7-88e8de3ad757"
      },
      "source": [
        "# divide the degree by two since this is an undirected graph\n",
        "d = G.degree()\n",
        "d['degree'] = d['degree'] / 2\n",
        "d.sort_values('degree', ascending=False).head().to_pandas()"
      ],
      "execution_count": 30,
      "outputs": [
        {
          "output_type": "execute_result",
          "data": {
            "text/html": [
              "<div>\n",
              "<style scoped>\n",
              "    .dataframe tbody tr th:only-of-type {\n",
              "        vertical-align: middle;\n",
              "    }\n",
              "\n",
              "    .dataframe tbody tr th {\n",
              "        vertical-align: top;\n",
              "    }\n",
              "\n",
              "    .dataframe thead th {\n",
              "        text-align: right;\n",
              "    }\n",
              "</style>\n",
              "<table border=\"1\" class=\"dataframe\">\n",
              "  <thead>\n",
              "    <tr style=\"text-align: right;\">\n",
              "      <th></th>\n",
              "      <th>vertex</th>\n",
              "      <th>degree</th>\n",
              "    </tr>\n",
              "  </thead>\n",
              "  <tbody>\n",
              "    <tr>\n",
              "      <th>34</th>\n",
              "      <td>34</td>\n",
              "      <td>17.0</td>\n",
              "    </tr>\n",
              "    <tr>\n",
              "      <th>1</th>\n",
              "      <td>1</td>\n",
              "      <td>16.0</td>\n",
              "    </tr>\n",
              "    <tr>\n",
              "      <th>33</th>\n",
              "      <td>33</td>\n",
              "      <td>12.0</td>\n",
              "    </tr>\n",
              "    <tr>\n",
              "      <th>3</th>\n",
              "      <td>3</td>\n",
              "      <td>10.0</td>\n",
              "    </tr>\n",
              "    <tr>\n",
              "      <th>2</th>\n",
              "      <td>2</td>\n",
              "      <td>9.0</td>\n",
              "    </tr>\n",
              "  </tbody>\n",
              "</table>\n",
              "</div>"
            ],
            "text/plain": [
              "    vertex  degree\n",
              "34      34    17.0\n",
              "1        1    16.0\n",
              "33      33    12.0\n",
              "3        3    10.0\n",
              "2        2     9.0"
            ]
          },
          "metadata": {
            "tags": []
          },
          "execution_count": 30
        }
      ]
    },
    {
      "cell_type": "markdown",
      "metadata": {
        "id": "sqqWx2pDPFwP",
        "colab_type": "text"
      },
      "source": [
        "### Networkx"
      ]
    },
    {
      "cell_type": "code",
      "metadata": {
        "id": "lvvhs87jG9vG",
        "colab_type": "code",
        "colab": {}
      },
      "source": [
        "import networkx as nx\n",
        "from scipy.io import mmread\n",
        "import pandas as pd\n",
        "import matplotlib.pyplot as plt\n",
        "import operator\n",
        "from pyvis import network as net\n",
        "import IPython"
      ],
      "execution_count": 0,
      "outputs": []
    },
    {
      "cell_type": "code",
      "metadata": {
        "id": "YtWppoeMOQur",
        "colab_type": "code",
        "colab": {}
      },
      "source": [
        "nxg = nx.read_edgelist(file)"
      ],
      "execution_count": 0,
      "outputs": []
    },
    {
      "cell_type": "code",
      "metadata": {
        "id": "1U8T6sG7HhUb",
        "colab_type": "code",
        "colab": {
          "base_uri": "https://localhost:8080/",
          "height": 203
        },
        "outputId": "820143f3-a047-45e6-c180-a1eb8c7a662f"
      },
      "source": [
        "# defining the parameters for nx pagerank method: maximum number of iterations, tolerance and alpha\n",
        "pr_nx = nx.pagerank(nxg, alpha= 0.85, max_iter= 100, tol= 0.00001)\n",
        "\n",
        "sorted_x = sorted(pr_nx.items(), key=operator.itemgetter(1), reverse=True)\n",
        "df2 = pd.DataFrame.from_dict(sorted_x)\n",
        "df2.columns = [\"vertex\", \"pagerank\"]\n",
        "df2.head()"
      ],
      "execution_count": 93,
      "outputs": [
        {
          "output_type": "execute_result",
          "data": {
            "text/html": [
              "<div>\n",
              "<style scoped>\n",
              "    .dataframe tbody tr th:only-of-type {\n",
              "        vertical-align: middle;\n",
              "    }\n",
              "\n",
              "    .dataframe tbody tr th {\n",
              "        vertical-align: top;\n",
              "    }\n",
              "\n",
              "    .dataframe thead th {\n",
              "        text-align: right;\n",
              "    }\n",
              "</style>\n",
              "<table border=\"1\" class=\"dataframe\">\n",
              "  <thead>\n",
              "    <tr style=\"text-align: right;\">\n",
              "      <th></th>\n",
              "      <th>vertex</th>\n",
              "      <th>pagerank</th>\n",
              "    </tr>\n",
              "  </thead>\n",
              "  <tbody>\n",
              "    <tr>\n",
              "      <th>0</th>\n",
              "      <td>34</td>\n",
              "      <td>0.100924</td>\n",
              "    </tr>\n",
              "    <tr>\n",
              "      <th>1</th>\n",
              "      <td>1</td>\n",
              "      <td>0.097016</td>\n",
              "    </tr>\n",
              "    <tr>\n",
              "      <th>2</th>\n",
              "      <td>33</td>\n",
              "      <td>0.071696</td>\n",
              "    </tr>\n",
              "    <tr>\n",
              "      <th>3</th>\n",
              "      <td>3</td>\n",
              "      <td>0.057078</td>\n",
              "    </tr>\n",
              "    <tr>\n",
              "      <th>4</th>\n",
              "      <td>2</td>\n",
              "      <td>0.052884</td>\n",
              "    </tr>\n",
              "  </tbody>\n",
              "</table>\n",
              "</div>"
            ],
            "text/plain": [
              "  vertex  pagerank\n",
              "0     34  0.100924\n",
              "1      1  0.097016\n",
              "2     33  0.071696\n",
              "3      3  0.057078\n",
              "4      2  0.052884"
            ]
          },
          "metadata": {
            "tags": []
          },
          "execution_count": 93
        }
      ]
    },
    {
      "cell_type": "markdown",
      "metadata": {
        "id": "QATeSQpYMUeB",
        "colab_type": "text"
      },
      "source": [
        "By looking at the following graph we can notice that the top scoring vertices corresponds to the vertices with the most connections (confirming our expectations)."
      ]
    },
    {
      "cell_type": "code",
      "metadata": {
        "id": "_1BdgKshL-Rb",
        "colab_type": "code",
        "colab": {
          "base_uri": "https://localhost:8080/",
          "height": 751
        },
        "outputId": "3a5049b1-ad07-4938-8a77-d9bb33708d1e"
      },
      "source": [
        "plt.figure(figsize=(10,10))\n",
        "nx.draw(nxg, with_labels=True, font_weight='bold')"
      ],
      "execution_count": 94,
      "outputs": [
        {
          "output_type": "display_data",
          "data": {
            "image/png": "[encoded data removed]",
            "text/plain": [
              "<Figure size 720x720 with 1 Axes>"
            ]
          },
          "metadata": {
            "tags": []
          }
        }
      ]
    },
    {
      "cell_type": "code",
      "metadata": {
        "id": "oaT3qvq4RObG",
        "colab_type": "code",
        "colab": {
          "base_uri": "https://localhost:8080/",
          "height": 519
        },
        "outputId": "285c7c87-ef6b-4d67-a618-31cfd972f2a2"
      },
      "source": [
        "# Making the graph interactive\n",
        "\n",
        "g = net.Network(notebook=True)\n",
        "g.from_nx(nxg)\n",
        "g.show(\"KarateData.html\")\n",
        "\n",
        "IPython.display.HTML(filename=\"KarateData.html\")"
      ],
      "execution_count": 95,
      "outputs": [
        {
          "output_type": "execute_result",
          "data": {
            "text/html": [
              "<html>\n",
              "<head>\n",
              "<link rel=\"stylesheet\" href=\"https://cdnjs.cloudflare.com/ajax/libs/vis/4.16.1/vis.css\" type=\"text/css\" />\n",
              "<script type=\"text/javascript\" src=\"https://cdnjs.cloudflare.com/ajax/libs/vis/4.16.1/vis-network.min.js\"> </script>\n",
              "\n",
              "<!-- <link rel=\"stylesheet\" href=\"../node_modules/vis/dist/vis.min.css\" type=\"text/css\" />\n",
              "<script type=\"text/javascript\" src=\"../node_modules/vis/dist/vis.js\"> </script>-->\n",
              "\n",
              "<style type=\"text/css\">\n",
              "\n",
              "        #mynetwork {\n",
              "            width: 500px;\n",
              "            height: 500px;\n",
              "            background-color: #ffffff;\n",
              "            border: 1px solid lightgray;\n",
              "            position: relative;\n",
              "            float: left;\n",
              "        }\n",
              "\n",
              "        \n",
              "\n",
              "        \n",
              "\n",
              "        \n",
              "</style>\n",
              "\n",
              "</head>\n",
              "\n",
              "<body>\n",
              "<div id = \"mynetwork\"></div>\n",
              "\n",
              "\n",
              "<script type=\"text/javascript\">\n",
              "\n",
              "    // initialize global variables.\n",
              "    var edges;\n",
              "    var nodes;\n",
              "    var network; \n",
              "    var container;\n",
              "    var options, data;\n",
              "\n",
              "    \n",
              "    // This method is responsible for drawing the graph, returns the drawn network\n",
              "    function drawGraph() {\n",
              "        var container = document.getElementById('mynetwork');\n",
              "        \n",
              "        \n",
              "\n",
              "        // parsing and collecting nodes and edges from the python\n",
              "        nodes = new vis.DataSet([{\"id\": \"1\", \"label\": \"1\", \"shape\": \"dot\", \"title\": \"1\"}, {\"id\": \"2\", \"label\": \"2\", \"shape\": \"dot\", \"title\": \"2\"}, {\"id\": \"3\", \"label\": \"3\", \"shape\": \"dot\", \"title\": \"3\"}, {\"id\": \"4\", \"label\": \"4\", \"shape\": \"dot\", \"title\": \"4\"}, {\"id\": \"5\", \"label\": \"5\", \"shape\": \"dot\", \"title\": \"5\"}, {\"id\": \"6\", \"label\": \"6\", \"shape\": \"dot\", \"title\": \"6\"}, {\"id\": \"7\", \"label\": \"7\", \"shape\": \"dot\", \"title\": \"7\"}, {\"id\": \"8\", \"label\": \"8\", \"shape\": \"dot\", \"title\": \"8\"}, {\"id\": \"9\", \"label\": \"9\", \"shape\": \"dot\", \"title\": \"9\"}, {\"id\": \"11\", \"label\": \"11\", \"shape\": \"dot\", \"title\": \"11\"}, {\"id\": \"12\", \"label\": \"12\", \"shape\": \"dot\", \"title\": \"12\"}, {\"id\": \"13\", \"label\": \"13\", \"shape\": \"dot\", \"title\": \"13\"}, {\"id\": \"14\", \"label\": \"14\", \"shape\": \"dot\", \"title\": \"14\"}, {\"id\": \"18\", \"label\": \"18\", \"shape\": \"dot\", \"title\": \"18\"}, {\"id\": \"20\", \"label\": \"20\", \"shape\": \"dot\", \"title\": \"20\"}, {\"id\": \"22\", \"label\": \"22\", \"shape\": \"dot\", \"title\": \"22\"}, {\"id\": \"32\", \"label\": \"32\", \"shape\": \"dot\", \"title\": \"32\"}, {\"id\": \"31\", \"label\": \"31\", \"shape\": \"dot\", \"title\": \"31\"}, {\"id\": \"10\", \"label\": \"10\", \"shape\": \"dot\", \"title\": \"10\"}, {\"id\": \"28\", \"label\": \"28\", \"shape\": \"dot\", \"title\": \"28\"}, {\"id\": \"29\", \"label\": \"29\", \"shape\": \"dot\", \"title\": \"29\"}, {\"id\": \"33\", \"label\": \"33\", \"shape\": \"dot\", \"title\": \"33\"}, {\"id\": \"17\", \"label\": \"17\", \"shape\": \"dot\", \"title\": \"17\"}, {\"id\": \"34\", \"label\": \"34\", \"shape\": \"dot\", \"title\": \"34\"}, {\"id\": \"25\", \"label\": \"25\", \"shape\": \"dot\", \"title\": \"25\"}, {\"id\": \"26\", \"label\": \"26\", \"shape\": \"dot\", \"title\": \"26\"}, {\"id\": \"24\", \"label\": \"24\", \"shape\": \"dot\", \"title\": \"24\"}, {\"id\": \"15\", \"label\": \"15\", \"shape\": \"dot\", \"title\": \"15\"}, {\"id\": \"16\", \"label\": \"16\", \"shape\": \"dot\", \"title\": \"16\"}, {\"id\": \"19\", \"label\": \"19\", \"shape\": \"dot\", \"title\": \"19\"}, {\"id\": \"21\", \"label\": \"21\", \"shape\": \"dot\", \"title\": \"21\"}, {\"id\": \"23\", \"label\": \"23\", \"shape\": \"dot\", \"title\": \"23\"}, {\"id\": \"30\", \"label\": \"30\", \"shape\": \"dot\", \"title\": \"30\"}, {\"id\": \"27\", \"label\": \"27\", \"shape\": \"dot\", \"title\": \"27\"}]);\n",
              "        edges = new vis.DataSet([{\"from\": \"1\", \"to\": \"2\"}, {\"from\": \"1\", \"to\": \"3\"}, {\"from\": \"1\", \"to\": \"4\"}, {\"from\": \"1\", \"to\": \"5\"}, {\"from\": \"1\", \"to\": \"6\"}, {\"from\": \"1\", \"to\": \"7\"}, {\"from\": \"1\", \"to\": \"8\"}, {\"from\": \"1\", \"to\": \"9\"}, {\"from\": \"1\", \"to\": \"11\"}, {\"from\": \"1\", \"to\": \"12\"}, {\"from\": \"1\", \"to\": \"13\"}, {\"from\": \"1\", \"to\": \"14\"}, {\"from\": \"1\", \"to\": \"18\"}, {\"from\": \"1\", \"to\": \"20\"}, {\"from\": \"1\", \"to\": \"22\"}, {\"from\": \"1\", \"to\": \"32\"}, {\"from\": \"2\", \"to\": \"3\"}, {\"from\": \"2\", \"to\": \"4\"}, {\"from\": \"2\", \"to\": \"8\"}, {\"from\": \"2\", \"to\": \"14\"}, {\"from\": \"2\", \"to\": \"18\"}, {\"from\": \"2\", \"to\": \"20\"}, {\"from\": \"2\", \"to\": \"22\"}, {\"from\": \"2\", \"to\": \"31\"}, {\"from\": \"3\", \"to\": \"4\"}, {\"from\": \"3\", \"to\": \"8\"}, {\"from\": \"3\", \"to\": \"9\"}, {\"from\": \"3\", \"to\": \"10\"}, {\"from\": \"3\", \"to\": \"14\"}, {\"from\": \"3\", \"to\": \"28\"}, {\"from\": \"3\", \"to\": \"29\"}, {\"from\": \"3\", \"to\": \"33\"}, {\"from\": \"4\", \"to\": \"8\"}, {\"from\": \"4\", \"to\": \"13\"}, {\"from\": \"4\", \"to\": \"14\"}, {\"from\": \"5\", \"to\": \"7\"}, {\"from\": \"5\", \"to\": \"11\"}, {\"from\": \"6\", \"to\": \"7\"}, {\"from\": \"6\", \"to\": \"11\"}, {\"from\": \"6\", \"to\": \"17\"}, {\"from\": \"7\", \"to\": \"17\"}, {\"from\": \"9\", \"to\": \"31\"}, {\"from\": \"9\", \"to\": \"33\"}, {\"from\": \"9\", \"to\": \"34\"}, {\"from\": \"14\", \"to\": \"34\"}, {\"from\": \"20\", \"to\": \"34\"}, {\"from\": \"32\", \"to\": \"25\"}, {\"from\": \"32\", \"to\": \"26\"}, {\"from\": \"32\", \"to\": \"29\"}, {\"from\": \"32\", \"to\": \"33\"}, {\"from\": \"32\", \"to\": \"34\"}, {\"from\": \"31\", \"to\": \"33\"}, {\"from\": \"31\", \"to\": \"34\"}, {\"from\": \"10\", \"to\": \"34\"}, {\"from\": \"28\", \"to\": \"24\"}, {\"from\": \"28\", \"to\": \"25\"}, {\"from\": \"28\", \"to\": \"34\"}, {\"from\": \"29\", \"to\": \"34\"}, {\"from\": \"33\", \"to\": \"15\"}, {\"from\": \"33\", \"to\": \"16\"}, {\"from\": \"33\", \"to\": \"19\"}, {\"from\": \"33\", \"to\": \"21\"}, {\"from\": \"33\", \"to\": \"23\"}, {\"from\": \"33\", \"to\": \"24\"}, {\"from\": \"33\", \"to\": \"30\"}, {\"from\": \"33\", \"to\": \"34\"}, {\"from\": \"34\", \"to\": \"15\"}, {\"from\": \"34\", \"to\": \"16\"}, {\"from\": \"34\", \"to\": \"19\"}, {\"from\": \"34\", \"to\": \"21\"}, {\"from\": \"34\", \"to\": \"23\"}, {\"from\": \"34\", \"to\": \"24\"}, {\"from\": \"34\", \"to\": \"27\"}, {\"from\": \"34\", \"to\": \"30\"}, {\"from\": \"24\", \"to\": \"26\"}, {\"from\": \"24\", \"to\": \"30\"}, {\"from\": \"26\", \"to\": \"25\"}, {\"from\": \"30\", \"to\": \"27\"}]);\n",
              "\n",
              "        // adding nodes and edges to the graph\n",
              "        data = {nodes: nodes, edges: edges};\n",
              "\n",
              "        var options = {\n",
              "    \"configure\": {\n",
              "        \"enabled\": false\n",
              "    },\n",
              "    \"edges\": {\n",
              "        \"color\": {\n",
              "            \"inherit\": true\n",
              "        },\n",
              "        \"smooth\": {\n",
              "            \"enabled\": false,\n",
              "            \"type\": \"continuous\"\n",
              "        }\n",
              "    },\n",
              "    \"interaction\": {\n",
              "        \"dragNodes\": true,\n",
              "        \"hideEdgesOnDrag\": false,\n",
              "        \"hideNodesOnDrag\": false\n",
              "    },\n",
              "    \"physics\": {\n",
              "        \"enabled\": true,\n",
              "        \"stabilization\": {\n",
              "            \"enabled\": true,\n",
              "            \"fit\": true,\n",
              "            \"iterations\": 1000,\n",
              "            \"onlyDynamicEdges\": false,\n",
              "            \"updateInterval\": 50\n",
              "        }\n",
              "    }\n",
              "};\n",
              "        \n",
              "        \n",
              "\n",
              "        // default to using dot shape for nodes\n",
              "        options.nodes = {\n",
              "            shape: \"dot\"\n",
              "        }\n",
              "        \n",
              "\n",
              "        network = new vis.Network(container, data, options);\n",
              "\n",
              "        \n",
              "\n",
              "\n",
              "        \n",
              "\n",
              "        return network;\n",
              "\n",
              "    }\n",
              "\n",
              "    drawGraph();\n",
              "\n",
              "</script>\n",
              "</body>\n",
              "</html>"
            ],
            "text/plain": [
              "<IPython.core.display.HTML object>"
            ]
          },
          "metadata": {
            "tags": []
          },
          "execution_count": 95
        }
      ]
    }
  ]
}